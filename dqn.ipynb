{
  "nbformat": 4,
  "nbformat_minor": 0,
  "metadata": {
    "colab": {
      "provenance": [],
      "authorship_tag": "ABX9TyM3RNvNo/er7RHKs4HTp0En",
      "include_colab_link": true
    },
    "kernelspec": {
      "name": "python3",
      "display_name": "Python 3"
    },
    "language_info": {
      "name": "python"
    }
  },
  "cells": [
    {
      "cell_type": "markdown",
      "metadata": {
        "id": "view-in-github",
        "colab_type": "text"
      },
      "source": [
        "<a href=\"https://colab.research.google.com/github/sudharshan-Bathini/credit_card_fraud_detection/blob/main/dqn.ipynb\" target=\"_parent\"><img src=\"https://colab.research.google.com/assets/colab-badge.svg\" alt=\"Open In Colab\"/></a>"
      ]
    },
    {
      "cell_type": "code",
      "source": [
        "import gym\n",
        "import numpy as np\n",
        "import pandas as pd\n",
        "import torch\n",
        "import torch.nn as nn\n",
        "import torch.optim as optim\n",
        "import torch.nn.functional as F\n",
        "import torch.utils.data as data_utils\n",
        "import matplotlib.pyplot as plt\n",
        "from sklearn.preprocessing import StandardScaler\n",
        "from sklearn.model_selection import train_test_split\n",
        "from collections import deque\n",
        "import random\n"
      ],
      "metadata": {
        "id": "E_KgCJnl_IAW"
      },
      "execution_count": 17,
      "outputs": []
    },
    {
      "cell_type": "code",
      "source": [
        "class FraudDetectionEnv(gym.Env):\n",
        "    def __init__(self, data_file):\n",
        "        super(FraudDetectionEnv, self).__init__()\n",
        "        self.data = pd.read_csv(data_file)\n",
        "\n",
        "        # Ensure proper numeric conversion\n",
        "        self.data = self.data.select_dtypes(include=[np.number])\n",
        "\n",
        "        self.scaler = StandardScaler()\n",
        "        self.data.iloc[:, :-1] = self.scaler.fit_transform(self.data.iloc[:, :-1])\n",
        "\n",
        "        self.state_idx = 0\n",
        "        self.action_space = gym.spaces.Discrete(2)\n",
        "        self.observation_space = gym.spaces.Box(low=-np.inf, high=np.inf, shape=(self.data.shape[1] - 1,), dtype=np.float32)\n",
        "\n",
        "    def reset(self):\n",
        "        self.state_idx = 0\n",
        "        return self.data.iloc[self.state_idx, :-1].values\n",
        "\n",
        "    def step(self, action):\n",
        "        reward = 1 if action == self.data.iloc[self.state_idx, -1] else -1\n",
        "        self.state_idx += 1\n",
        "        done = self.state_idx >= len(self.data)\n",
        "        next_state = self.data.iloc[self.state_idx, :-1].values if not done else np.zeros(self.observation_space.shape)\n",
        "        return next_state, reward, done, {}\n",
        "\n",
        "# Initialize the environment\n",
        "env = FraudDetectionEnv('credit_card_fraud_dataset.csv')\n"
      ],
      "metadata": {
        "colab": {
          "base_uri": "https://localhost:8080/"
        },
        "id": "wBDyAuvP_KgO",
        "outputId": "b017ed6f-c718-4147-e451-f53346e16f26"
      },
      "execution_count": 19,
      "outputs": [
        {
          "output_type": "stream",
          "name": "stderr",
          "text": [
            "<ipython-input-19-26bcbc1eeba4>:10: FutureWarning: Setting an item of incompatible dtype is deprecated and will raise in a future error of pandas. Value '[-1.73203349 -1.73199885 -1.73196421 ...  1.73196421  1.73199885\n",
            "  1.73203349]' has dtype incompatible with int64, please explicitly cast to a compatible dtype first.\n",
            "  self.data.iloc[:, :-1] = self.scaler.fit_transform(self.data.iloc[:, :-1])\n",
            "<ipython-input-19-26bcbc1eeba4>:10: FutureWarning: Setting an item of incompatible dtype is deprecated and will raise in a future error of pandas. Value '[ 0.64535719 -1.3600847  -0.37295009 ...  0.65228445  0.49295746\n",
            "  0.60033   ]' has dtype incompatible with int64, please explicitly cast to a compatible dtype first.\n",
            "  self.data.iloc[:, :-1] = self.scaler.fit_transform(self.data.iloc[:, :-1])\n"
          ]
        }
      ]
    },
    {
      "cell_type": "code",
      "source": [
        "class DQN(nn.Module):\n",
        "    def __init__(self, input_dim):\n",
        "        super(DQN, self).__init__()\n",
        "        self.fc1 = nn.Linear(input_dim, 16)\n",
        "        self.fc2 = nn.Linear(16, 18)\n",
        "        self.fc3 = nn.Linear(18, 20)\n",
        "        self.fc4 = nn.Linear(20, 24)\n",
        "        self.fc5 = nn.Linear(24, 2)\n",
        "\n",
        "    def forward(self, x):\n",
        "        x = F.relu(self.fc1(x))\n",
        "        x = F.relu(self.fc2(x))\n",
        "        x = F.dropout(x, p=0.25)\n",
        "        x = F.relu(self.fc3(x))\n",
        "        x = F.relu(self.fc4(x))\n",
        "        x = torch.sigmoid(self.fc5(x))\n",
        "        return x\n"
      ],
      "metadata": {
        "id": "aZ996Y5B_UYd"
      },
      "execution_count": 20,
      "outputs": []
    },
    {
      "cell_type": "code",
      "source": [
        "class ReplayBuffer:\n",
        "    def __init__(self, action_size, buffer_size, batch_size, seed):\n",
        "        self.memory = deque(maxlen=buffer_size)\n",
        "        self.batch_size = batch_size\n",
        "        self.seed = random.seed(seed)\n",
        "\n",
        "    def add(self, state, action, reward, next_state, done):\n",
        "        self.memory.append((state, action, reward, next_state, done))\n",
        "\n",
        "    def sample(self):\n",
        "        batch = random.sample(self.memory, self.batch_size)\n",
        "        states, actions, rewards, next_states, dones = zip(*batch)\n",
        "        return torch.tensor(states, dtype=torch.float32).to(device), \\\n",
        "               torch.tensor(actions, dtype=torch.long).unsqueeze(1).to(device), \\\n",
        "               torch.tensor(rewards, dtype=torch.float32).unsqueeze(1).to(device), \\\n",
        "               torch.tensor(next_states, dtype=torch.float32).to(device), \\\n",
        "               torch.tensor(dones, dtype=torch.float32).unsqueeze(1).to(device)\n",
        "\n",
        "    def __len__(self):\n",
        "        return len(self.memory)\n"
      ],
      "metadata": {
        "id": "4FDbJQXo_X6m"
      },
      "execution_count": 21,
      "outputs": []
    },
    {
      "cell_type": "code",
      "source": [
        "device = torch.device(\"cuda\" if torch.cuda.is_available() else \"cpu\")\n",
        "\n",
        "class Agent:\n",
        "    def __init__(self, input_dim, action_size, seed):\n",
        "        self.action_size = action_size\n",
        "        self.qnet_local = DQN(input_dim).to(device)\n",
        "        self.qnet_target = DQN(input_dim).to(device)\n",
        "        self.optimizer = optim.Adam(self.qnet_local.parameters(), lr=0.001)\n",
        "        self.memory = ReplayBuffer(action_size, buffer_size=100000, batch_size=64, seed=seed)\n",
        "        self.train_loss = []\n",
        "\n",
        "    def step(self, state, action, reward, next_state, done):\n",
        "        self.memory.add(state, action, reward, next_state, done)\n",
        "        if len(self.memory) > 64:\n",
        "            experiences = self.memory.sample()\n",
        "            self.learn(experiences)\n",
        "\n",
        "    def epsilon_greedy_action(self, state, epsilon=0.1):\n",
        "        state = torch.tensor(state, dtype=torch.float32).unsqueeze(0).to(device)\n",
        "        with torch.no_grad():\n",
        "            action_values = self.qnet_local(state)\n",
        "        if random.random() > epsilon:\n",
        "            return action_values.max(1)[1].item()\n",
        "        else:\n",
        "            return random.choice(np.arange(self.action_size))\n",
        "\n",
        "    def learn(self, experiences, gamma=0.99):\n",
        "        states, actions, rewards, next_states, dones = experiences\n",
        "        criterion = nn.MSELoss()\n",
        "\n",
        "        q_targets_next = self.qnet_target(next_states).detach().max(1)[0].unsqueeze(1)\n",
        "        q_targets = rewards + (gamma * q_targets_next * (1 - dones))\n",
        "\n",
        "        q_expected = self.qnet_local(states).gather(1, actions)\n",
        "        loss = criterion(q_expected, q_targets)\n",
        "\n",
        "        self.optimizer.zero_grad()\n",
        "        loss.backward()\n",
        "        self.optimizer.step()\n",
        "\n",
        "        self.train_loss.append(loss.item())\n"
      ],
      "metadata": {
        "id": "6BNSYcHj_bgl"
      },
      "execution_count": 22,
      "outputs": []
    },
    {
      "cell_type": "code",
      "source": [
        "agent = Agent(input_dim=env.observation_space.shape[0], action_size=2, seed=0)\n",
        "\n",
        "num_episodes = 10\n",
        "for i in range(num_episodes):\n",
        "    state = env.reset()\n",
        "    for _ in range(1000):\n",
        "        action = agent.epsilon_greedy_action(state)\n",
        "        next_state, reward, done, _ = env.step(action)\n",
        "        agent.step(state, action, reward, next_state, done)\n",
        "        state = next_state\n",
        "        if done:\n",
        "            break\n"
      ],
      "metadata": {
        "colab": {
          "base_uri": "https://localhost:8080/"
        },
        "id": "YtxCiujH_ehd",
        "outputId": "a9042989-52c6-4446-b465-8c06082adf9b"
      },
      "execution_count": 23,
      "outputs": [
        {
          "output_type": "stream",
          "name": "stderr",
          "text": [
            "<ipython-input-21-1e4193eaffa3>:13: UserWarning: Creating a tensor from a list of numpy.ndarrays is extremely slow. Please consider converting the list to a single numpy.ndarray with numpy.array() before converting to a tensor. (Triggered internally at /pytorch/torch/csrc/utils/tensor_new.cpp:254.)\n",
            "  return torch.tensor(states, dtype=torch.float32).to(device), \\\n"
          ]
        }
      ]
    },
    {
      "cell_type": "code",
      "source": [
        "plt.plot(range(len(agent.train_loss)), agent.train_loss, color='orange', label='Training Loss')\n",
        "plt.xlabel('# Epochs')\n",
        "plt.ylabel('Loss')\n",
        "plt.legend()\n",
        "plt.show()\n"
      ],
      "metadata": {
        "colab": {
          "base_uri": "https://localhost:8080/",
          "height": 453
        },
        "id": "OpNgPkSe_7eW",
        "outputId": "809b93ed-e800-46d6-a97f-1b7b28fbd44c"
      },
      "execution_count": 24,
      "outputs": [
        {
          "output_type": "display_data",
          "data": {
            "text/plain": [
              "<Figure size 640x480 with 1 Axes>"
            ],
            "image/png": "[encoded data removed]"
          },
          "metadata": {}
        }
      ]
    },
    {
      "cell_type": "code",
      "source": [
        "correct = 0\n",
        "total = len(env.data)\n",
        "\n",
        "with torch.no_grad():\n",
        "    for i in range(total):\n",
        "        state = env.data.iloc[i, :-1].values\n",
        "        label = env.data.iloc[i, -1]\n",
        "        action = agent.epsilon_greedy_action(state)\n",
        "        correct += (action == label)\n",
        "\n",
        "accuracy = (correct / total) * 100\n",
        "print(f'Accuracy: {accuracy:.2f}%')\n"
      ],
      "metadata": {
        "colab": {
          "base_uri": "https://localhost:8080/"
        },
        "id": "fJO73DJ9AIO_",
        "outputId": "87c2aa18-b7f8-4317-feb8-3bb50579d544"
      },
      "execution_count": 25,
      "outputs": [
        {
          "output_type": "stream",
          "name": "stdout",
          "text": [
            "Accuracy: 94.08%\n"
          ]
        }
      ]
    }
  ]
}