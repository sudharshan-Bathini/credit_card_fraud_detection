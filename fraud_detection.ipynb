{
  "cells": [
    {
      "cell_type": "markdown",
      "metadata": {
        "id": "view-in-github",
        "colab_type": "text"
      },
      "source": [
        "<a href=\"https://colab.research.google.com/github/sudharshan-Bathini/credit_card_fraud_detection/blob/main/fraud_detection.ipynb\" target=\"_parent\"><img src=\"https://colab.research.google.com/assets/colab-badge.svg\" alt=\"Open In Colab\"/></a>"
      ]
    },
    {
      "cell_type": "code",
      "source": [],
      "metadata": {
        "id": "bK-Qq8fu1j6k"
      },
      "execution_count": 1,
      "outputs": []
    },
    {
      "cell_type": "code",
      "execution_count": 2,
      "metadata": {
        "colab": {
          "base_uri": "https://localhost:8080/"
        },
        "id": "WqqMENp630fu",
        "outputId": "c6846637-e840-4bdb-b5d8-d164f7fcb4ea"
      },
      "outputs": [
        {
          "output_type": "stream",
          "name": "stdout",
          "text": [
            "Requirement already satisfied: bayesian-optimization in /usr/local/lib/python3.11/dist-packages (2.0.3)\n",
            "Requirement already satisfied: colorama<0.5.0,>=0.4.6 in /usr/local/lib/python3.11/dist-packages (from bayesian-optimization) (0.4.6)\n",
            "Requirement already satisfied: numpy>=1.25 in /usr/local/lib/python3.11/dist-packages (from bayesian-optimization) (2.0.2)\n",
            "Requirement already satisfied: scikit-learn<2.0.0,>=1.0.0 in /usr/local/lib/python3.11/dist-packages (from bayesian-optimization) (1.6.1)\n",
            "Requirement already satisfied: scipy<2.0.0,>=1.0.0 in /usr/local/lib/python3.11/dist-packages (from bayesian-optimization) (1.14.1)\n",
            "Requirement already satisfied: joblib>=1.2.0 in /usr/local/lib/python3.11/dist-packages (from scikit-learn<2.0.0,>=1.0.0->bayesian-optimization) (1.4.2)\n",
            "Requirement already satisfied: threadpoolctl>=3.1.0 in /usr/local/lib/python3.11/dist-packages (from scikit-learn<2.0.0,>=1.0.0->bayesian-optimization) (3.6.0)\n"
          ]
        }
      ],
      "source": [
        "pip install bayesian-optimization\n"
      ]
    },
    {
      "cell_type": "code",
      "execution_count": 3,
      "metadata": {
        "id": "uAg-us_5W7vM"
      },
      "outputs": [],
      "source": [
        "import numpy as np\n",
        "import pandas as pd\n",
        "import tensorflow as tf\n",
        "import random\n",
        "from collections import deque\n",
        "import matplotlib.pyplot as plt\n",
        "from sklearn.model_selection import train_test_split\n",
        "from sklearn.preprocessing import StandardScaler\n",
        "from sklearn.metrics import accuracy_score, f1_score, matthews_corrcoef, roc_auc_score, precision_recall_curve, auc, roc_curve\n",
        "from imblearn.over_sampling import SMOTE\n",
        "from bayes_opt import BayesianOptimization"
      ]
    },
    {
      "cell_type": "code",
      "execution_count": 4,
      "metadata": {
        "colab": {
          "base_uri": "https://localhost:8080/"
        },
        "id": "TT_AUtEVXWYq",
        "outputId": "ba9e3584-56d4-4a6d-a2f7-b65ea66e9c27"
      },
      "outputs": [
        {
          "output_type": "stream",
          "name": "stdout",
          "text": [
            "Dataset Shape: (100000, 7)\n"
          ]
        }
      ],
      "source": [
        "# Load dataset\n",
        "df = pd.read_csv(\"credit_card_fraud_dataset.csv\")\n",
        "print(f\"Dataset Shape: {df.shape}\")\n"
      ]
    },
    {
      "cell_type": "code",
      "execution_count": 5,
      "metadata": {
        "id": "cChbexudXZei"
      },
      "outputs": [],
      "source": [
        "#Data Preprocessing\n",
        "df.dropna(inplace=True)\n",
        "df[\"TransactionDate\"] = pd.to_datetime(df[\"TransactionDate\"])\n",
        "df[\"TransactionHour\"] = df[\"TransactionDate\"].dt.hour\n",
        "df[\"TransactionDay\"] = df[\"TransactionDate\"].dt.dayofweek\n",
        "\n",
        "# Apply get_dummies to TransactionType and Location columns\n",
        "df = pd.get_dummies(df, columns=[\"TransactionType\", \"Location\"], drop_first=True)\n",
        "df.drop(columns=[\"TransactionDate\", \"TransactionID\"], inplace=True)\n",
        "\n",
        "# Ensure 'Amount' is included in the features\n",
        "X = df.drop(columns=[\"IsFraud\"])\n",
        "y = df[\"IsFraud\"]\n",
        "\n",
        "# Apply SMOTE\n",
        "smote = SMOTE(random_state=42)\n",
        "X_resampled, y_resampled = smote.fit_resample(X, y)\n",
        "\n",
        "# Normalize features\n",
        "scaler = StandardScaler()\n",
        "X_resampled = scaler.fit_transform(X_resampled)\n"
      ]
    },
    {
      "cell_type": "code",
      "execution_count": 6,
      "metadata": {
        "id": "U8v5HGEqXcX_"
      },
      "outputs": [],
      "source": [
        "#Split dataset\n",
        "X_train, X_test, y_train, y_test = train_test_split(X_resampled, y_resampled, test_size=0.2, random_state=42, stratify=y_resampled)\n",
        "X_train, X_val, y_train, y_val = train_test_split(X_train, y_train, test_size=0.1, random_state=42, stratify=y_train)"
      ]
    },
    {
      "cell_type": "code",
      "execution_count": 7,
      "metadata": {
        "colab": {
          "base_uri": "https://localhost:8080/"
        },
        "id": "tX4BTT_IesVf",
        "outputId": "87141b9f-87e1-4e63-fa22-57a5150303c0"
      },
      "outputs": [
        {
          "output_type": "stream",
          "name": "stdout",
          "text": [
            "Location Columns: ['Location_Dallas', 'Location_Houston', 'Location_Los Angeles', 'Location_New York', 'Location_Philadelphia', 'Location_Phoenix', 'Location_San Antonio', 'Location_San Diego', 'Location_San Jose']\n"
          ]
        }
      ],
      "source": [
        " #Handle unknown locations (assign a default value if the location is not one of the known locations)\n",
        "# The correct way to refer to location columns is by looking at column names of the transformed DataFrame\n",
        "\n",
        "# Get location-related columns after one-hot encoding\n",
        "location_columns = [col for col in df.columns if \"Location\" in col]\n",
        "print(f\"Location Columns: {location_columns}\")\n",
        "\n",
        "def handle_unknown_location(X_input, known_location_columns):\n",
        "    # Iterate over the location columns and set unknown locations to 0\n",
        "    for i, location_column in enumerate(known_location_columns):\n",
        "        if location_column not in df.columns:\n",
        "            X_input[:, i] = 0  # Assign a default value (zero) to unknown location\n",
        "    return X_input\n",
        "\n",
        "# Call the function to handle unknown locations during model inference\n",
        "X_train = handle_unknown_location(X_train, location_columns)\n",
        "X_test = handle_unknown_location(X_test, location_columns)"
      ]
    },
    {
      "cell_type": "code",
      "execution_count": 8,
      "metadata": {
        "colab": {
          "base_uri": "https://localhost:8080/"
        },
        "id": "f4WFMI3jevhI",
        "outputId": "345e1e9f-7878-495a-90fc-73bbb0a9bf79"
      },
      "outputs": [
        {
          "output_type": "stream",
          "name": "stdout",
          "text": [
            "|   iter    |  target   | dropout1  | dropout2  | learni... |\n",
            "-------------------------------------------------------------\n",
            "\u001b[1m495/495\u001b[0m \u001b[32m━━━━━━━━━━━━━━━━━━━━\u001b[0m\u001b[37m\u001b[0m \u001b[1m1s\u001b[0m 1ms/step\n",
            "| \u001b[39m1        \u001b[39m | \u001b[39m0.8488   \u001b[39m | \u001b[39m0.3124   \u001b[39m | \u001b[39m0.3852   \u001b[39m | \u001b[39m0.007347 \u001b[39m |\n",
            "\u001b[1m495/495\u001b[0m \u001b[32m━━━━━━━━━━━━━━━━━━━━\u001b[0m\u001b[37m\u001b[0m \u001b[1m1s\u001b[0m 2ms/step\n",
            "| \u001b[35m2        \u001b[39m | \u001b[35m0.8518   \u001b[39m | \u001b[35m0.3796   \u001b[39m | \u001b[35m0.1468   \u001b[39m | \u001b[35m0.001644 \u001b[39m |\n",
            "\u001b[1m495/495\u001b[0m \u001b[32m━━━━━━━━━━━━━━━━━━━━\u001b[0m\u001b[37m\u001b[0m \u001b[1m1s\u001b[0m 1ms/step\n",
            "| \u001b[35m3        \u001b[39m | \u001b[35m0.855    \u001b[39m | \u001b[35m0.2174   \u001b[39m | \u001b[35m0.3599   \u001b[39m | \u001b[35m0.006051 \u001b[39m |\n",
            "\u001b[1m495/495\u001b[0m \u001b[32m━━━━━━━━━━━━━━━━━━━━\u001b[0m\u001b[37m\u001b[0m \u001b[1m1s\u001b[0m 1ms/step\n",
            "| \u001b[39m4        \u001b[39m | \u001b[39m0.8464   \u001b[39m | \u001b[39m0.4124   \u001b[39m | \u001b[39m0.1062   \u001b[39m | \u001b[39m0.009702 \u001b[39m |\n",
            "\u001b[1m495/495\u001b[0m \u001b[32m━━━━━━━━━━━━━━━━━━━━\u001b[0m\u001b[37m\u001b[0m \u001b[1m1s\u001b[0m 1ms/step\n",
            "| \u001b[39m5        \u001b[39m | \u001b[39m0.8468   \u001b[39m | \u001b[39m0.4497   \u001b[39m | \u001b[39m0.1637   \u001b[39m | \u001b[39m0.0019   \u001b[39m |\n",
            "\u001b[1m495/495\u001b[0m \u001b[32m━━━━━━━━━━━━━━━━━━━━\u001b[0m\u001b[37m\u001b[0m \u001b[1m1s\u001b[0m 1ms/step\n",
            "| \u001b[39m6        \u001b[39m | \u001b[39m0.8412   \u001b[39m | \u001b[39m0.4914   \u001b[39m | \u001b[39m0.2897   \u001b[39m | \u001b[39m0.00986  \u001b[39m |\n",
            "\u001b[1m495/495\u001b[0m \u001b[32m━━━━━━━━━━━━━━━━━━━━\u001b[0m\u001b[37m\u001b[0m \u001b[1m1s\u001b[0m 1ms/step\n",
            "| \u001b[39m7        \u001b[39m | \u001b[39m0.8466   \u001b[39m | \u001b[39m0.2482   \u001b[39m | \u001b[39m0.2197   \u001b[39m | \u001b[39m0.0009565\u001b[39m |\n",
            "\u001b[1m495/495\u001b[0m \u001b[32m━━━━━━━━━━━━━━━━━━━━\u001b[0m\u001b[37m\u001b[0m \u001b[1m1s\u001b[0m 2ms/step\n",
            "| \u001b[35m8        \u001b[39m | \u001b[35m0.8551   \u001b[39m | \u001b[35m0.2976   \u001b[39m | \u001b[35m0.2437   \u001b[39m | \u001b[35m0.001514 \u001b[39m |\n",
            "\u001b[1m495/495\u001b[0m \u001b[32m━━━━━━━━━━━━━━━━━━━━\u001b[0m\u001b[37m\u001b[0m \u001b[1m1s\u001b[0m 1ms/step\n",
            "| \u001b[39m9        \u001b[39m | \u001b[39m0.8415   \u001b[39m | \u001b[39m0.4829   \u001b[39m | \u001b[39m0.2104   \u001b[39m | \u001b[39m0.002291 \u001b[39m |\n",
            "\u001b[1m495/495\u001b[0m \u001b[32m━━━━━━━━━━━━━━━━━━━━\u001b[0m\u001b[37m\u001b[0m \u001b[1m1s\u001b[0m 1ms/step\n",
            "| \u001b[39m10       \u001b[39m | \u001b[39m0.8534   \u001b[39m | \u001b[39m0.3466   \u001b[39m | \u001b[39m0.2189   \u001b[39m | \u001b[39m0.001733 \u001b[39m |\n",
            "\u001b[1m495/495\u001b[0m \u001b[32m━━━━━━━━━━━━━━━━━━━━\u001b[0m\u001b[37m\u001b[0m \u001b[1m1s\u001b[0m 1ms/step\n",
            "| \u001b[39m11       \u001b[39m | \u001b[39m0.8495   \u001b[39m | \u001b[39m0.2782   \u001b[39m | \u001b[39m0.3041   \u001b[39m | \u001b[39m0.007767 \u001b[39m |\n",
            "\u001b[1m495/495\u001b[0m \u001b[32m━━━━━━━━━━━━━━━━━━━━\u001b[0m\u001b[37m\u001b[0m \u001b[1m1s\u001b[0m 1ms/step\n",
            "| \u001b[39m12       \u001b[39m | \u001b[39m0.8462   \u001b[39m | \u001b[39m0.2014   \u001b[39m | \u001b[39m0.3998   \u001b[39m | \u001b[39m0.001195 \u001b[39m |\n",
            "\u001b[1m495/495\u001b[0m \u001b[32m━━━━━━━━━━━━━━━━━━━━\u001b[0m\u001b[37m\u001b[0m \u001b[1m1s\u001b[0m 1ms/step\n",
            "| \u001b[39m13       \u001b[39m | \u001b[39m0.8549   \u001b[39m | \u001b[39m0.3209   \u001b[39m | \u001b[39m0.3522   \u001b[39m | \u001b[39m0.0076   \u001b[39m |\n",
            "\u001b[1m495/495\u001b[0m \u001b[32m━━━━━━━━━━━━━━━━━━━━\u001b[0m\u001b[37m\u001b[0m \u001b[1m1s\u001b[0m 1ms/step\n",
            "| \u001b[39m14       \u001b[39m | \u001b[39m0.8525   \u001b[39m | \u001b[39m0.3831   \u001b[39m | \u001b[39m0.1664   \u001b[39m | \u001b[39m0.009764 \u001b[39m |\n",
            "\u001b[1m495/495\u001b[0m \u001b[32m━━━━━━━━━━━━━━━━━━━━\u001b[0m\u001b[37m\u001b[0m \u001b[1m1s\u001b[0m 1ms/step\n",
            "| \u001b[35m15       \u001b[39m | \u001b[35m0.8569   \u001b[39m | \u001b[35m0.2162   \u001b[39m | \u001b[35m0.3621   \u001b[39m | \u001b[35m0.007138 \u001b[39m |\n",
            "=============================================================\n"
          ]
        }
      ],
      "source": [
        "# Bayesian Optimization for DNN\n",
        "def dnn_evaluate(learning_rate, dropout1, dropout2):\n",
        "    model = tf.keras.Sequential([\n",
        "        tf.keras.layers.Dense(64, activation='relu'),\n",
        "        tf.keras.layers.BatchNormalization(),\n",
        "        tf.keras.layers.Dropout(dropout1),\n",
        "        tf.keras.layers.Dense(32, activation='relu'),\n",
        "        tf.keras.layers.BatchNormalization(),\n",
        "        tf.keras.layers.Dropout(dropout2),\n",
        "        tf.keras.layers.Dense(1, activation='sigmoid')\n",
        "    ])\n",
        "    model.compile(optimizer=tf.keras.optimizers.Adam(learning_rate=learning_rate), loss='binary_crossentropy', metrics=['accuracy'])\n",
        "    model.fit(X_train, y_train, epochs=10, batch_size=64, validation_data=(X_val, y_val), verbose=0)\n",
        "    y_pred_prob = model.predict(X_val)\n",
        "    return f1_score(y_val, (y_pred_prob > 0.5).astype(int))\n",
        "\n",
        "pbounds = {'learning_rate': (0.0001, 0.01), 'dropout1': (0.2, 0.5), 'dropout2': (0.1, 0.4)}\n",
        "optimizer = BayesianOptimization(f=dnn_evaluate, pbounds=pbounds, random_state=42)\n",
        "optimizer.maximize(init_points=5, n_iter=10)\n",
        "best_params = optimizer.max['params']\n"
      ]
    },
    {
      "cell_type": "code",
      "execution_count": 9,
      "metadata": {
        "id": "Z55vG3IHeyFp",
        "colab": {
          "base_uri": "https://localhost:8080/"
        },
        "outputId": "89160543-1de5-4035-959f-624e9f14ac35"
      },
      "outputs": [
        {
          "output_type": "stream",
          "name": "stdout",
          "text": [
            "Epoch 1/30\n",
            "\u001b[1m2228/2228\u001b[0m \u001b[32m━━━━━━━━━━━━━━━━━━━━\u001b[0m\u001b[37m\u001b[0m \u001b[1m13s\u001b[0m 4ms/step - accuracy: 0.8421 - loss: 0.3506 - val_accuracy: 0.8589 - val_loss: 0.2983 - learning_rate: 0.0071\n",
            "Epoch 2/30\n",
            "\u001b[1m2228/2228\u001b[0m \u001b[32m━━━━━━━━━━━━━━━━━━━━\u001b[0m\u001b[37m\u001b[0m \u001b[1m7s\u001b[0m 3ms/step - accuracy: 0.8551 - loss: 0.3132 - val_accuracy: 0.8603 - val_loss: 0.2959 - learning_rate: 0.0071\n",
            "Epoch 3/30\n",
            "\u001b[1m2228/2228\u001b[0m \u001b[32m━━━━━━━━━━━━━━━━━━━━\u001b[0m\u001b[37m\u001b[0m \u001b[1m10s\u001b[0m 3ms/step - accuracy: 0.8586 - loss: 0.3034 - val_accuracy: 0.8585 - val_loss: 0.2974 - learning_rate: 0.0071\n",
            "Epoch 4/30\n",
            "\u001b[1m2228/2228\u001b[0m \u001b[32m━━━━━━━━━━━━━━━━━━━━\u001b[0m\u001b[37m\u001b[0m \u001b[1m10s\u001b[0m 3ms/step - accuracy: 0.8565 - loss: 0.3018 - val_accuracy: 0.8638 - val_loss: 0.2858 - learning_rate: 0.0071\n",
            "Epoch 5/30\n",
            "\u001b[1m2228/2228\u001b[0m \u001b[32m━━━━━━━━━━━━━━━━━━━━\u001b[0m\u001b[37m\u001b[0m \u001b[1m7s\u001b[0m 3ms/step - accuracy: 0.8591 - loss: 0.2981 - val_accuracy: 0.8619 - val_loss: 0.2832 - learning_rate: 0.0071\n",
            "Epoch 6/30\n",
            "\u001b[1m2228/2228\u001b[0m \u001b[32m━━━━━━━━━━━━━━━━━━━━\u001b[0m\u001b[37m\u001b[0m \u001b[1m11s\u001b[0m 3ms/step - accuracy: 0.8574 - loss: 0.2975 - val_accuracy: 0.8604 - val_loss: 0.2823 - learning_rate: 0.0071\n",
            "Epoch 7/30\n",
            "\u001b[1m2228/2228\u001b[0m \u001b[32m━━━━━━━━━━━━━━━━━━━━\u001b[0m\u001b[37m\u001b[0m \u001b[1m7s\u001b[0m 3ms/step - accuracy: 0.8588 - loss: 0.2936 - val_accuracy: 0.8629 - val_loss: 0.2810 - learning_rate: 0.0071\n",
            "Epoch 8/30\n",
            "\u001b[1m2228/2228\u001b[0m \u001b[32m━━━━━━━━━━━━━━━━━━━━\u001b[0m\u001b[37m\u001b[0m \u001b[1m7s\u001b[0m 3ms/step - accuracy: 0.8582 - loss: 0.2940 - val_accuracy: 0.8656 - val_loss: 0.2801 - learning_rate: 0.0071\n",
            "Epoch 9/30\n",
            "\u001b[1m2228/2228\u001b[0m \u001b[32m━━━━━━━━━━━━━━━━━━━━\u001b[0m\u001b[37m\u001b[0m \u001b[1m8s\u001b[0m 3ms/step - accuracy: 0.8604 - loss: 0.2909 - val_accuracy: 0.8666 - val_loss: 0.2757 - learning_rate: 0.0071\n",
            "Epoch 10/30\n",
            "\u001b[1m2228/2228\u001b[0m \u001b[32m━━━━━━━━━━━━━━━━━━━━\u001b[0m\u001b[37m\u001b[0m \u001b[1m7s\u001b[0m 3ms/step - accuracy: 0.8611 - loss: 0.2899 - val_accuracy: 0.8650 - val_loss: 0.2768 - learning_rate: 0.0071\n",
            "Epoch 11/30\n",
            "\u001b[1m2228/2228\u001b[0m \u001b[32m━━━━━━━━━━━━━━━━━━━━\u001b[0m\u001b[37m\u001b[0m \u001b[1m10s\u001b[0m 3ms/step - accuracy: 0.8596 - loss: 0.2910 - val_accuracy: 0.8618 - val_loss: 0.2780 - learning_rate: 0.0071\n",
            "Epoch 12/30\n",
            "\u001b[1m2228/2228\u001b[0m \u001b[32m━━━━━━━━━━━━━━━━━━━━\u001b[0m\u001b[37m\u001b[0m \u001b[1m11s\u001b[0m 3ms/step - accuracy: 0.8598 - loss: 0.2902 - val_accuracy: 0.8657 - val_loss: 0.2769 - learning_rate: 0.0071\n",
            "Epoch 13/30\n",
            "\u001b[1m2228/2228\u001b[0m \u001b[32m━━━━━━━━━━━━━━━━━━━━\u001b[0m\u001b[37m\u001b[0m \u001b[1m7s\u001b[0m 3ms/step - accuracy: 0.8631 - loss: 0.2852 - val_accuracy: 0.8714 - val_loss: 0.2717 - learning_rate: 0.0036\n",
            "Epoch 14/30\n",
            "\u001b[1m2228/2228\u001b[0m \u001b[32m━━━━━━━━━━━━━━━━━━━━\u001b[0m\u001b[37m\u001b[0m \u001b[1m7s\u001b[0m 3ms/step - accuracy: 0.8627 - loss: 0.2840 - val_accuracy: 0.8719 - val_loss: 0.2674 - learning_rate: 0.0036\n",
            "Epoch 15/30\n",
            "\u001b[1m2228/2228\u001b[0m \u001b[32m━━━━━━━━━━━━━━━━━━━━\u001b[0m\u001b[37m\u001b[0m \u001b[1m11s\u001b[0m 3ms/step - accuracy: 0.8633 - loss: 0.2815 - val_accuracy: 0.8601 - val_loss: 0.2690 - learning_rate: 0.0036\n",
            "Epoch 16/30\n",
            "\u001b[1m2228/2228\u001b[0m \u001b[32m━━━━━━━━━━━━━━━━━━━━\u001b[0m\u001b[37m\u001b[0m \u001b[1m10s\u001b[0m 3ms/step - accuracy: 0.8632 - loss: 0.2819 - val_accuracy: 0.8692 - val_loss: 0.2650 - learning_rate: 0.0036\n",
            "Epoch 17/30\n",
            "\u001b[1m2228/2228\u001b[0m \u001b[32m━━━━━━━━━━━━━━━━━━━━\u001b[0m\u001b[37m\u001b[0m \u001b[1m6s\u001b[0m 3ms/step - accuracy: 0.8634 - loss: 0.2816 - val_accuracy: 0.8721 - val_loss: 0.2657 - learning_rate: 0.0036\n",
            "Epoch 18/30\n",
            "\u001b[1m2228/2228\u001b[0m \u001b[32m━━━━━━━━━━━━━━━━━━━━\u001b[0m\u001b[37m\u001b[0m \u001b[1m7s\u001b[0m 3ms/step - accuracy: 0.8646 - loss: 0.2795 - val_accuracy: 0.8725 - val_loss: 0.2655 - learning_rate: 0.0036\n",
            "Epoch 19/30\n",
            "\u001b[1m2228/2228\u001b[0m \u001b[32m━━━━━━━━━━━━━━━━━━━━\u001b[0m\u001b[37m\u001b[0m \u001b[1m7s\u001b[0m 3ms/step - accuracy: 0.8640 - loss: 0.2805 - val_accuracy: 0.8739 - val_loss: 0.2631 - learning_rate: 0.0036\n",
            "Epoch 20/30\n",
            "\u001b[1m2228/2228\u001b[0m \u001b[32m━━━━━━━━━━━━━━━━━━━━\u001b[0m\u001b[37m\u001b[0m \u001b[1m9s\u001b[0m 3ms/step - accuracy: 0.8640 - loss: 0.2805 - val_accuracy: 0.8753 - val_loss: 0.2644 - learning_rate: 0.0036\n",
            "Epoch 21/30\n",
            "\u001b[1m2228/2228\u001b[0m \u001b[32m━━━━━━━━━━━━━━━━━━━━\u001b[0m\u001b[37m\u001b[0m \u001b[1m7s\u001b[0m 3ms/step - accuracy: 0.8628 - loss: 0.2815 - val_accuracy: 0.8722 - val_loss: 0.2647 - learning_rate: 0.0036\n",
            "Epoch 22/30\n",
            "\u001b[1m2228/2228\u001b[0m \u001b[32m━━━━━━━━━━━━━━━━━━━━\u001b[0m\u001b[37m\u001b[0m \u001b[1m10s\u001b[0m 3ms/step - accuracy: 0.8639 - loss: 0.2808 - val_accuracy: 0.8761 - val_loss: 0.2624 - learning_rate: 0.0036\n",
            "Epoch 23/30\n",
            "\u001b[1m2228/2228\u001b[0m \u001b[32m━━━━━━━━━━━━━━━━━━━━\u001b[0m\u001b[37m\u001b[0m \u001b[1m10s\u001b[0m 3ms/step - accuracy: 0.8646 - loss: 0.2809 - val_accuracy: 0.8691 - val_loss: 0.2627 - learning_rate: 0.0036\n",
            "Epoch 24/30\n",
            "\u001b[1m2228/2228\u001b[0m \u001b[32m━━━━━━━━━━━━━━━━━━━━\u001b[0m\u001b[37m\u001b[0m \u001b[1m9s\u001b[0m 3ms/step - accuracy: 0.8653 - loss: 0.2784 - val_accuracy: 0.8783 - val_loss: 0.2602 - learning_rate: 0.0036\n",
            "Epoch 25/30\n",
            "\u001b[1m2228/2228\u001b[0m \u001b[32m━━━━━━━━━━━━━━━━━━━━\u001b[0m\u001b[37m\u001b[0m \u001b[1m10s\u001b[0m 3ms/step - accuracy: 0.8659 - loss: 0.2789 - val_accuracy: 0.8703 - val_loss: 0.2614 - learning_rate: 0.0036\n",
            "Epoch 26/30\n",
            "\u001b[1m2228/2228\u001b[0m \u001b[32m━━━━━━━━━━━━━━━━━━━━\u001b[0m\u001b[37m\u001b[0m \u001b[1m7s\u001b[0m 3ms/step - accuracy: 0.8648 - loss: 0.2791 - val_accuracy: 0.8754 - val_loss: 0.2665 - learning_rate: 0.0036\n",
            "Epoch 27/30\n",
            "\u001b[1m2228/2228\u001b[0m \u001b[32m━━━━━━━━━━━━━━━━━━━━\u001b[0m\u001b[37m\u001b[0m \u001b[1m10s\u001b[0m 3ms/step - accuracy: 0.8666 - loss: 0.2772 - val_accuracy: 0.8764 - val_loss: 0.2597 - learning_rate: 0.0036\n",
            "Epoch 28/30\n",
            "\u001b[1m2228/2228\u001b[0m \u001b[32m━━━━━━━━━━━━━━━━━━━━\u001b[0m\u001b[37m\u001b[0m \u001b[1m10s\u001b[0m 3ms/step - accuracy: 0.8649 - loss: 0.2794 - val_accuracy: 0.8753 - val_loss: 0.2598 - learning_rate: 0.0036\n",
            "Epoch 29/30\n",
            "\u001b[1m2228/2228\u001b[0m \u001b[32m━━━━━━━━━━━━━━━━━━━━\u001b[0m\u001b[37m\u001b[0m \u001b[1m7s\u001b[0m 3ms/step - accuracy: 0.8659 - loss: 0.2776 - val_accuracy: 0.8781 - val_loss: 0.2635 - learning_rate: 0.0036\n",
            "Epoch 30/30\n",
            "\u001b[1m2228/2228\u001b[0m \u001b[32m━━━━━━━━━━━━━━━━━━━━\u001b[0m\u001b[37m\u001b[0m \u001b[1m8s\u001b[0m 3ms/step - accuracy: 0.8667 - loss: 0.2761 - val_accuracy: 0.8777 - val_loss: 0.2592 - learning_rate: 0.0036\n"
          ]
        },
        {
          "output_type": "execute_result",
          "data": {
            "text/plain": [
              "<keras.src.callbacks.history.History at 0x7df960089dd0>"
            ]
          },
          "metadata": {},
          "execution_count": 9
        }
      ],
      "source": [
        "# Create optimized DNN model\n",
        "def create_dnn():\n",
        "    model = tf.keras.Sequential([\n",
        "        tf.keras.layers.Dense(64, activation='relu'),\n",
        "        tf.keras.layers.BatchNormalization(),\n",
        "        tf.keras.layers.Dropout(best_params['dropout1']),\n",
        "        tf.keras.layers.Dense(32, activation='relu'),\n",
        "        tf.keras.layers.BatchNormalization(),\n",
        "        tf.keras.layers.Dropout(best_params['dropout2']),\n",
        "        tf.keras.layers.Dense(1, activation='sigmoid')\n",
        "    ])\n",
        "    model.compile(optimizer=tf.keras.optimizers.Adam(learning_rate=best_params['learning_rate']), loss='binary_crossentropy', metrics=['accuracy'])\n",
        "    return model\n",
        "\n",
        "dnn_model = create_dnn()\n",
        "dnn_model.fit(X_train, y_train, epochs=30, batch_size=64, validation_data=(X_val, y_val), callbacks=[tf.keras.callbacks.ReduceLROnPlateau(monitor='val_loss', factor=0.5, patience=3)], verbose=1)\n"
      ]
    },
    {
      "cell_type": "code",
      "execution_count": null,
      "metadata": {
        "id": "Yv_pQwGle01j",
        "colab": {
          "base_uri": "https://localhost:8080/",
          "height": 1000
        },
        "outputId": "30b73617-a21f-4a15-83b6-375db4c9cf2e"
      },
      "outputs": [
        {
          "output_type": "stream",
          "name": "stdout",
          "text": [
            "\u001b[1m1238/1238\u001b[0m \u001b[32m━━━━━━━━━━━━━━━━━━━━\u001b[0m\u001b[37m\u001b[0m \u001b[1m2s\u001b[0m 2ms/step\n",
            "DNN Model Performance:\n",
            "Accuracy: 0.8748\n",
            "F1 Score: 0.8641\n",
            "Matthews Correlation Coefficient (MCC): 0.7590\n",
            "ROC-AUC Score: 0.9513\n",
            "Precision-Recall AUC: 0.9604\n",
            "\n",
            "Classification Report:\n",
            "              precision    recall  f1-score   support\n",
            "\n",
            "           0       0.82      0.95      0.88     19800\n",
            "           1       0.94      0.80      0.86     19800\n",
            "\n",
            "    accuracy                           0.87     39600\n",
            "   macro avg       0.88      0.87      0.87     39600\n",
            "weighted avg       0.88      0.87      0.87     39600\n",
            "\n"
          ]
        },
        {
          "output_type": "display_data",
          "data": {
            "text/plain": [
              "<Figure size 800x600 with 1 Axes>"
            ],
            "image/png": "[encoded data removed]"
          },
          "metadata": {}
        },
        {
          "output_type": "display_data",
          "data": {
            "text/plain": [
              "<Figure size 800x600 with 1 Axes>"
            ],
            "image/png": "[encoded data removed]"
          },
          "metadata": {}
        }
      ],
      "source": [
        "from sklearn.metrics import classification_report\n",
        "import seaborn as sns\n",
        "\n",
        "# Evaluate DNN model\n",
        "y_pred_prob_dnn = dnn_model.predict(X_test)\n",
        "y_pred_dnn = (y_pred_prob_dnn > 0.5).astype(int)\n",
        "\n",
        "# Compute DNN performance metrics\n",
        "dnn_accuracy = accuracy_score(y_test, y_pred_dnn)\n",
        "dnn_f1 = f1_score(y_test, y_pred_dnn)\n",
        "dnn_mcc = matthews_corrcoef(y_test, y_pred_dnn)\n",
        "dnn_roc_auc = roc_auc_score(y_test, y_pred_prob_dnn)\n",
        "precision, recall, _ = precision_recall_curve(y_test, y_pred_prob_dnn)\n",
        "dnn_pr_auc = auc(recall, precision)\n",
        "\n",
        "print(f\"DNN Model Performance:\")\n",
        "print(f\"Accuracy: {dnn_accuracy:.4f}\")\n",
        "print(f\"F1 Score: {dnn_f1:.4f}\")\n",
        "print(f\"Matthews Correlation Coefficient (MCC): {dnn_mcc:.4f}\")\n",
        "print(f\"ROC-AUC Score: {dnn_roc_auc:.4f}\")\n",
        "print(f\"Precision-Recall AUC: {dnn_pr_auc:.4f}\")\n",
        "print(\"\\nClassification Report:\")\n",
        "print(classification_report(y_test, y_pred_dnn))\n",
        "\n",
        "# Plot ROC Curve\n",
        "fpr, tpr, _ = roc_curve(y_test, y_pred_prob_dnn)\n",
        "plt.figure(figsize=(8, 6))\n",
        "plt.plot(fpr, tpr, label=f\"DNN Model (AUC = {dnn_roc_auc:.4f})\", color='blue')\n",
        "plt.plot([0, 1], [0, 1], linestyle='--', color='gray')\n",
        "plt.xlabel(\"False Positive Rate\")\n",
        "plt.ylabel(\"True Positive Rate\")\n",
        "plt.title(\"ROC Curve\")\n",
        "plt.legend()\n",
        "plt.grid()\n",
        "plt.show()\n",
        "\n",
        "# Plot Precision-Recall Curve\n",
        "plt.figure(figsize=(8, 6))\n",
        "plt.plot(recall, precision, label=f\"DNN Model (PR AUC = {dnn_pr_auc:.4f})\", color='green')\n",
        "plt.xlabel(\"Recall\")\n",
        "plt.ylabel(\"Precision\")\n",
        "plt.title(\"Precision-Recall Curve\")\n",
        "plt.legend()\n",
        "plt.grid()\n",
        "plt.show()\n",
        "\n",
        "# Plot Confusion Matrix\n",
        "conf_matrix = pd.crosstab(y_test, y_pred_dnn, rownames=['Actual'], colnames=['Predicted'])\n",
        "plt.figure(figsize=(6, 5))\n",
        "sns.heatmap(conf_matrix, annot=True, fmt='d', cmap='Blues')\n",
        "plt.title(\"Confusion Matrix\")\n",
        "plt.show()"
      ]
    },
    {
      "cell_type": "code",
      "execution_count": 1,
      "metadata": {
        "id": "OfiWMMH3e3JP",
        "colab": {
          "base_uri": "https://localhost:8080/",
          "height": 203
        },
        "outputId": "0db2f0c4-5bc2-439f-d6b9-2fed56cdca95"
      },
      "outputs": [
        {
          "output_type": "error",
          "ename": "NameError",
          "evalue": "name 'X_train' is not defined",
          "traceback": [
            "\u001b[0;31m---------------------------------------------------------------------------\u001b[0m",
            "\u001b[0;31mNameError\u001b[0m                                 Traceback (most recent call last)",
            "\u001b[0;32m<ipython-input-1-be39674e7ee9>\u001b[0m in \u001b[0;36m<cell line: 0>\u001b[0;34m()\u001b[0m\n\u001b[1;32m     68\u001b[0m             \u001b[0mself\u001b[0m\u001b[0;34m.\u001b[0m\u001b[0mepsilon\u001b[0m \u001b[0;34m*=\u001b[0m \u001b[0mself\u001b[0m\u001b[0;34m.\u001b[0m\u001b[0mepsilon_decay\u001b[0m\u001b[0;34m\u001b[0m\u001b[0;34m\u001b[0m\u001b[0m\n\u001b[1;32m     69\u001b[0m \u001b[0;34m\u001b[0m\u001b[0m\n\u001b[0;32m---> 70\u001b[0;31m \u001b[0mdqn_agent\u001b[0m \u001b[0;34m=\u001b[0m \u001b[0mDQNAgent\u001b[0m\u001b[0;34m(\u001b[0m\u001b[0mstate_size\u001b[0m\u001b[0;34m=\u001b[0m\u001b[0mX_train\u001b[0m\u001b[0;34m.\u001b[0m\u001b[0mshape\u001b[0m\u001b[0;34m[\u001b[0m\u001b[0;36m1\u001b[0m\u001b[0;34m]\u001b[0m\u001b[0;34m,\u001b[0m \u001b[0maction_size\u001b[0m\u001b[0;34m=\u001b[0m\u001b[0;36m10\u001b[0m\u001b[0;34m)\u001b[0m\u001b[0;34m\u001b[0m\u001b[0;34m\u001b[0m\u001b[0m\n\u001b[0m\u001b[1;32m     71\u001b[0m \u001b[0mdqn_agent\u001b[0m\u001b[0;34m.\u001b[0m\u001b[0mtrain\u001b[0m\u001b[0;34m(\u001b[0m\u001b[0mepisodes\u001b[0m\u001b[0;34m=\u001b[0m\u001b[0;36m500\u001b[0m\u001b[0;34m,\u001b[0m \u001b[0mbatch_size\u001b[0m\u001b[0;34m=\u001b[0m\u001b[0;36m64\u001b[0m\u001b[0;34m)\u001b[0m\u001b[0;34m\u001b[0m\u001b[0;34m\u001b[0m\u001b[0m\n",
            "\u001b[0;31mNameError\u001b[0m: name 'X_train' is not defined"
          ]
        }
      ],
      "source": [
        "class DQNAgent:\n",
        "    def __init__(self, state_size, action_size):\n",
        "        self.state_size = state_size\n",
        "        self.action_size = action_size\n",
        "        self.memory = deque(maxlen=10000)\n",
        "        self.gamma = 0.99\n",
        "        self.epsilon = 1.0\n",
        "        self.epsilon_min = 0.01\n",
        "        self.epsilon_decay = 0.995\n",
        "        self.learning_rate = 0.0005\n",
        "        self.model = self._build_model()\n",
        "        self.target_model = self._build_model()\n",
        "        self.update_target_model()\n",
        "\n",
        "    def _build_model(self):\n",
        "        inputs = tf.keras.layers.Input(shape=(self.state_size,))\n",
        "        x = tf.keras.layers.Dense(128, activation='relu')(inputs)\n",
        "        x = tf.keras.layers.Dense(64, activation='relu')(x)\n",
        "        x = tf.keras.layers.Dense(32, activation='relu')(x)\n",
        "        outputs = tf.keras.layers.Dense(self.action_size, activation='linear')(x)\n",
        "\n",
        "        model = tf.keras.Model(inputs=inputs, outputs=outputs)\n",
        "        model.compile(loss='mse', optimizer=tf.keras.optimizers.Adam(learning_rate=self.learning_rate))\n",
        "        return model\n",
        "\n",
        "    def update_target_model(self):\n",
        "        self.target_model.set_weights(self.model.get_weights())\n",
        "\n",
        "    def remember(self, state, action, reward, next_state, done):\n",
        "        self.memory.append((state, action, reward, next_state, done))\n",
        "\n",
        "    def act(self, state):\n",
        "        if np.random.rand() <= self.epsilon:\n",
        "            return random.randrange(self.action_size)\n",
        "        act_values = self.model.predict(state, verbose=0)\n",
        "        return np.argmax(act_values[0])\n",
        "\n",
        "    def train(self, episodes, batch_size):\n",
        "        for e in range(episodes):\n",
        "            state = random.choice(X_train)\n",
        "            state = np.reshape(state, [1, self.state_size])\n",
        "            total_reward = 0\n",
        "            for time in range(50):\n",
        "                action = self.act(state)\n",
        "                next_state = random.choice(X_train)\n",
        "                next_state = np.reshape(next_state, [1, self.state_size])\n",
        "                reward = 1 if action > 5 else -1\n",
        "                total_reward += reward\n",
        "                done = time == 49\n",
        "                self.remember(state, action, reward, next_state, done)\n",
        "                state = next_state\n",
        "                if done:\n",
        "                    break\n",
        "            print(f\"Episode {e+1}/{episodes}, Total Reward: {total_reward}\")\n",
        "            if len(self.memory) > batch_size:\n",
        "                self.replay(batch_size)\n",
        "\n",
        "    def replay(self, batch_size):\n",
        "        minibatch = random.sample(self.memory, batch_size)\n",
        "        for state, action, reward, next_state, done in minibatch:\n",
        "            target = reward\n",
        "            if not done:\n",
        "                target = (reward + self.gamma * np.amax(self.target_model.predict(next_state, verbose=0)))\n",
        "            target_f = self.model.predict(state, verbose=0)\n",
        "            target_f[0][action] = target\n",
        "            self.model.fit(state, target_f, epochs=1, verbose=0)\n",
        "        if self.epsilon > self.epsilon_min:\n",
        "            self.epsilon *= self.epsilon_decay\n",
        "\n",
        "dqn_agent = DQNAgent(state_size=X_train.shape[1], action_size=10)\n",
        "dqn_agent.train(episodes=500, batch_size=64)\n"
      ]
    }
  ],
  "metadata": {
    "accelerator": "GPU",
    "colab": {
      "gpuType": "T4",
      "provenance": [],
      "authorship_tag": "ABX9TyODuZ8PLrcIn7gOo8h14DaG",
      "include_colab_link": true
    },
    "kernelspec": {
      "display_name": "Python 3",
      "name": "python3"
    },
    "language_info": {
      "name": "python"
    }
  },
  "nbformat": 4,
  "nbformat_minor": 0
}