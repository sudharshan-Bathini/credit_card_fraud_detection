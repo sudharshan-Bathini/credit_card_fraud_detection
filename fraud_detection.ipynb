{
  "cells": [
    {
      "cell_type": "markdown",
      "metadata": {
        "id": "view-in-github",
        "colab_type": "text"
      },
      "source": [
        "<a href=\"https://colab.research.google.com/github/sudharshan-Bathini/credit_card_fraud_detection/blob/main/fraud_detection.ipynb\" target=\"_parent\"><img src=\"https://colab.research.google.com/assets/colab-badge.svg\" alt=\"Open In Colab\"/></a>"
      ]
    },
    {
      "cell_type": "code",
      "execution_count": null,
      "metadata": {
        "id": "bK-Qq8fu1j6k"
      },
      "outputs": [],
      "source": []
    },
    {
      "cell_type": "code",
      "execution_count": null,
      "metadata": {
        "colab": {
          "base_uri": "https://localhost:8080/"
        },
        "id": "WqqMENp630fu",
        "outputId": "7ceda52a-6a70-40c4-927c-33a44af67b47"
      },
      "outputs": [
        {
          "name": "stdout",
          "output_type": "stream",
          "text": [
            "Collecting bayesian-optimization\n",
            "  Downloading bayesian_optimization-2.0.3-py3-none-any.whl.metadata (9.0 kB)\n",
            "Collecting colorama<0.5.0,>=0.4.6 (from bayesian-optimization)\n",
            "  Downloading colorama-0.4.6-py2.py3-none-any.whl.metadata (17 kB)\n",
            "Requirement already satisfied: numpy>=1.25 in /usr/local/lib/python3.11/dist-packages (from bayesian-optimization) (2.0.2)\n",
            "Requirement already satisfied: scikit-learn<2.0.0,>=1.0.0 in /usr/local/lib/python3.11/dist-packages (from bayesian-optimization) (1.6.1)\n",
            "Requirement already satisfied: scipy<2.0.0,>=1.0.0 in /usr/local/lib/python3.11/dist-packages (from bayesian-optimization) (1.14.1)\n",
            "Requirement already satisfied: joblib>=1.2.0 in /usr/local/lib/python3.11/dist-packages (from scikit-learn<2.0.0,>=1.0.0->bayesian-optimization) (1.4.2)\n",
            "Requirement already satisfied: threadpoolctl>=3.1.0 in /usr/local/lib/python3.11/dist-packages (from scikit-learn<2.0.0,>=1.0.0->bayesian-optimization) (3.6.0)\n",
            "Downloading bayesian_optimization-2.0.3-py3-none-any.whl (31 kB)\n",
            "Downloading colorama-0.4.6-py2.py3-none-any.whl (25 kB)\n",
            "Installing collected packages: colorama, bayesian-optimization\n",
            "Successfully installed bayesian-optimization-2.0.3 colorama-0.4.6\n"
          ]
        }
      ],
      "source": [
        "pip install bayesian-optimization\n"
      ]
    },
    {
      "cell_type": "code",
      "execution_count": null,
      "metadata": {
        "id": "uAg-us_5W7vM"
      },
      "outputs": [],
      "source": [
        "import numpy as np\n",
        "import pandas as pd\n",
        "import tensorflow as tf\n",
        "import random\n",
        "from collections import deque\n",
        "import matplotlib.pyplot as plt\n",
        "from sklearn.model_selection import train_test_split\n",
        "from sklearn.preprocessing import StandardScaler\n",
        "from sklearn.metrics import accuracy_score, f1_score, matthews_corrcoef, roc_auc_score, precision_recall_curve, auc, roc_curve\n",
        "from imblearn.over_sampling import SMOTE\n",
        "from bayes_opt import BayesianOptimization"
      ]
    },
    {
      "cell_type": "code",
      "execution_count": null,
      "metadata": {
        "colab": {
          "base_uri": "https://localhost:8080/"
        },
        "id": "TT_AUtEVXWYq",
        "outputId": "3b4d3614-cc85-4c1a-b471-87d6dfe80b03"
      },
      "outputs": [
        {
          "name": "stdout",
          "output_type": "stream",
          "text": [
            "Dataset Shape: (100000, 7)\n"
          ]
        }
      ],
      "source": [
        "# Load dataset\n",
        "df = pd.read_csv(\"credit_card_fraud_dataset.csv\")\n",
        "print(f\"Dataset Shape: {df.shape}\")\n"
      ]
    },
    {
      "cell_type": "code",
      "execution_count": null,
      "metadata": {
        "id": "cChbexudXZei"
      },
      "outputs": [],
      "source": [
        "#Data Preprocessing\n",
        "df.dropna(inplace=True)\n",
        "df[\"TransactionDate\"] = pd.to_datetime(df[\"TransactionDate\"])\n",
        "df[\"TransactionHour\"] = df[\"TransactionDate\"].dt.hour\n",
        "df[\"TransactionDay\"] = df[\"TransactionDate\"].dt.dayofweek\n",
        "\n",
        "# Apply get_dummies to TransactionType and Location columns\n",
        "df = pd.get_dummies(df, columns=[\"TransactionType\", \"Location\"], drop_first=True)\n",
        "df.drop(columns=[\"TransactionDate\", \"TransactionID\"], inplace=True)\n",
        "\n",
        "# Ensure 'Amount' is included in the features\n",
        "X = df.drop(columns=[\"IsFraud\"])\n",
        "y = df[\"IsFraud\"]\n",
        "\n",
        "# Apply SMOTE\n",
        "smote = SMOTE(random_state=42)\n",
        "X_resampled, y_resampled = smote.fit_resample(X, y)\n",
        "\n",
        "# Normalize features\n",
        "scaler = StandardScaler()\n",
        "X_resampled = scaler.fit_transform(X_resampled)\n"
      ]
    },
    {
      "cell_type": "code",
      "execution_count": null,
      "metadata": {
        "id": "U8v5HGEqXcX_"
      },
      "outputs": [],
      "source": [
        "#Split dataset\n",
        "X_train, X_test, y_train, y_test = train_test_split(X_resampled, y_resampled, test_size=0.2, random_state=42, stratify=y_resampled)\n",
        "X_train, X_val, y_train, y_val = train_test_split(X_train, y_train, test_size=0.1, random_state=42, stratify=y_train)"
      ]
    },
    {
      "cell_type": "code",
      "execution_count": null,
      "metadata": {
        "colab": {
          "base_uri": "https://localhost:8080/"
        },
        "id": "tX4BTT_IesVf",
        "outputId": "cf1c2373-6fab-43fd-beb7-e546bb7af411"
      },
      "outputs": [
        {
          "name": "stdout",
          "output_type": "stream",
          "text": [
            "Location Columns: ['Location_Dallas', 'Location_Houston', 'Location_Los Angeles', 'Location_New York', 'Location_Philadelphia', 'Location_Phoenix', 'Location_San Antonio', 'Location_San Diego', 'Location_San Jose']\n"
          ]
        }
      ],
      "source": [
        " #Handle unknown locations (assign a default value if the location is not one of the known locations)\n",
        "# The correct way to refer to location columns is by looking at column names of the transformed DataFrame\n",
        "\n",
        "# Get location-related columns after one-hot encoding\n",
        "location_columns = [col for col in df.columns if \"Location\" in col]\n",
        "print(f\"Location Columns: {location_columns}\")\n",
        "\n",
        "def handle_unknown_location(X_input, known_location_columns):\n",
        "    # Iterate over the location columns and set unknown locations to 0\n",
        "    for i, location_column in enumerate(known_location_columns):\n",
        "        if location_column not in df.columns:\n",
        "            X_input[:, i] = 0  # Assign a default value (zero) to unknown location\n",
        "    return X_input\n",
        "\n",
        "# Call the function to handle unknown locations during model inference\n",
        "X_train = handle_unknown_location(X_train, location_columns)\n",
        "X_test = handle_unknown_location(X_test, location_columns)"
      ]
    },
    {
      "cell_type": "code",
      "execution_count": null,
      "metadata": {
        "colab": {
          "base_uri": "https://localhost:8080/"
        },
        "id": "f4WFMI3jevhI",
        "outputId": "33b33c57-2d08-414c-b295-7bc9594945b3"
      },
      "outputs": [
        {
          "name": "stdout",
          "output_type": "stream",
          "text": [
            "|   iter    |  target   | dropout1  | dropout2  | learni... |\n",
            "-------------------------------------------------------------\n",
            "\u001b[1m495/495\u001b[0m \u001b[32m━━━━━━━━━━━━━━━━━━━━\u001b[0m\u001b[37m\u001b[0m \u001b[1m1s\u001b[0m 1ms/step\n",
            "| \u001b[39m1        \u001b[39m | \u001b[39m0.8481   \u001b[39m | \u001b[39m0.3124   \u001b[39m | \u001b[39m0.3852   \u001b[39m | \u001b[39m0.007347 \u001b[39m |\n",
            "\u001b[1m495/495\u001b[0m \u001b[32m━━━━━━━━━━━━━━━━━━━━\u001b[0m\u001b[37m\u001b[0m \u001b[1m1s\u001b[0m 2ms/step\n",
            "| \u001b[39m2        \u001b[39m | \u001b[39m0.8466   \u001b[39m | \u001b[39m0.3796   \u001b[39m | \u001b[39m0.1468   \u001b[39m | \u001b[39m0.001644 \u001b[39m |\n",
            "\u001b[1m495/495\u001b[0m \u001b[32m━━━━━━━━━━━━━━━━━━━━\u001b[0m\u001b[37m\u001b[0m \u001b[1m1s\u001b[0m 2ms/step\n",
            "| \u001b[39m3        \u001b[39m | \u001b[39m0.8463   \u001b[39m | \u001b[39m0.2174   \u001b[39m | \u001b[39m0.3599   \u001b[39m | \u001b[39m0.006051 \u001b[39m |\n",
            "\u001b[1m495/495\u001b[0m \u001b[32m━━━━━━━━━━━━━━━━━━━━\u001b[0m\u001b[37m\u001b[0m \u001b[1m1s\u001b[0m 1ms/step\n",
            "| \u001b[35m4        \u001b[39m | \u001b[35m0.8553   \u001b[39m | \u001b[35m0.4124   \u001b[39m | \u001b[35m0.1062   \u001b[39m | \u001b[35m0.009702 \u001b[39m |\n",
            "\u001b[1m495/495\u001b[0m \u001b[32m━━━━━━━━━━━━━━━━━━━━\u001b[0m\u001b[37m\u001b[0m \u001b[1m1s\u001b[0m 1ms/step\n",
            "| \u001b[39m5        \u001b[39m | \u001b[39m0.8503   \u001b[39m | \u001b[39m0.4497   \u001b[39m | \u001b[39m0.1637   \u001b[39m | \u001b[39m0.0019   \u001b[39m |\n",
            "\u001b[1m495/495\u001b[0m \u001b[32m━━━━━━━━━━━━━━━━━━━━\u001b[0m\u001b[37m\u001b[0m \u001b[1m1s\u001b[0m 2ms/step\n",
            "| \u001b[39m6        \u001b[39m | \u001b[39m0.8352   \u001b[39m | \u001b[39m0.4914   \u001b[39m | \u001b[39m0.2897   \u001b[39m | \u001b[39m0.00986  \u001b[39m |\n",
            "\u001b[1m495/495\u001b[0m \u001b[32m━━━━━━━━━━━━━━━━━━━━\u001b[0m\u001b[37m\u001b[0m \u001b[1m1s\u001b[0m 1ms/step\n",
            "| \u001b[35m7        \u001b[39m | \u001b[35m0.8586   \u001b[39m | \u001b[35m0.4472   \u001b[39m | \u001b[35m0.1059   \u001b[39m | \u001b[35m0.009521 \u001b[39m |\n",
            "\u001b[1m495/495\u001b[0m \u001b[32m━━━━━━━━━━━━━━━━━━━━\u001b[0m\u001b[37m\u001b[0m \u001b[1m1s\u001b[0m 1ms/step\n",
            "| \u001b[39m8        \u001b[39m | \u001b[39m0.8522   \u001b[39m | \u001b[39m0.4983   \u001b[39m | \u001b[39m0.1013   \u001b[39m | \u001b[39m0.004544 \u001b[39m |\n",
            "\u001b[1m495/495\u001b[0m \u001b[32m━━━━━━━━━━━━━━━━━━━━\u001b[0m\u001b[37m\u001b[0m \u001b[1m1s\u001b[0m 1ms/step\n",
            "| \u001b[39m9        \u001b[39m | \u001b[39m0.8426   \u001b[39m | \u001b[39m0.4829   \u001b[39m | \u001b[39m0.2104   \u001b[39m | \u001b[39m0.002291 \u001b[39m |\n",
            "\u001b[1m495/495\u001b[0m \u001b[32m━━━━━━━━━━━━━━━━━━━━\u001b[0m\u001b[37m\u001b[0m \u001b[1m1s\u001b[0m 1ms/step\n",
            "| \u001b[35m10       \u001b[39m | \u001b[35m0.8638   \u001b[39m | \u001b[35m0.2034   \u001b[39m | \u001b[35m0.1018   \u001b[39m | \u001b[35m0.006138 \u001b[39m |\n",
            "\u001b[1m495/495\u001b[0m \u001b[32m━━━━━━━━━━━━━━━━━━━━\u001b[0m\u001b[37m\u001b[0m \u001b[1m1s\u001b[0m 1ms/step\n",
            "| \u001b[39m11       \u001b[39m | \u001b[39m0.8548   \u001b[39m | \u001b[39m0.201    \u001b[39m | \u001b[39m0.1694   \u001b[39m | \u001b[39m0.007296 \u001b[39m |\n",
            "\u001b[1m495/495\u001b[0m \u001b[32m━━━━━━━━━━━━━━━━━━━━\u001b[0m\u001b[37m\u001b[0m \u001b[1m1s\u001b[0m 2ms/step\n",
            "| \u001b[39m12       \u001b[39m | \u001b[39m0.8579   \u001b[39m | \u001b[39m0.2573   \u001b[39m | \u001b[39m0.1      \u001b[39m | \u001b[39m0.009065 \u001b[39m |\n",
            "\u001b[1m495/495\u001b[0m \u001b[32m━━━━━━━━━━━━━━━━━━━━\u001b[0m\u001b[37m\u001b[0m \u001b[1m1s\u001b[0m 1ms/step\n",
            "| \u001b[39m13       \u001b[39m | \u001b[39m0.8618   \u001b[39m | \u001b[39m0.2178   \u001b[39m | \u001b[39m0.1167   \u001b[39m | \u001b[39m0.0009326\u001b[39m |\n",
            "\u001b[1m495/495\u001b[0m \u001b[32m━━━━━━━━━━━━━━━━━━━━\u001b[0m\u001b[37m\u001b[0m \u001b[1m1s\u001b[0m 1ms/step\n",
            "| \u001b[39m14       \u001b[39m | \u001b[39m0.8475   \u001b[39m | \u001b[39m0.2008   \u001b[39m | \u001b[39m0.1127   \u001b[39m | \u001b[39m0.009877 \u001b[39m |\n",
            "\u001b[1m495/495\u001b[0m \u001b[32m━━━━━━━━━━━━━━━━━━━━\u001b[0m\u001b[37m\u001b[0m \u001b[1m1s\u001b[0m 1ms/step\n",
            "| \u001b[39m15       \u001b[39m | \u001b[39m0.8507   \u001b[39m | \u001b[39m0.2123   \u001b[39m | \u001b[39m0.2467   \u001b[39m | \u001b[39m0.005957 \u001b[39m |\n",
            "=============================================================\n"
          ]
        }
      ],
      "source": [
        "# Bayesian Optimization for DNN\n",
        "def dnn_evaluate(learning_rate, dropout1, dropout2):\n",
        "    model = tf.keras.Sequential([\n",
        "        tf.keras.layers.Dense(64, activation='relu'),\n",
        "        tf.keras.layers.BatchNormalization(),\n",
        "        tf.keras.layers.Dropout(dropout1),\n",
        "        tf.keras.layers.Dense(32, activation='relu'),\n",
        "        tf.keras.layers.BatchNormalization(),\n",
        "        tf.keras.layers.Dropout(dropout2),\n",
        "        tf.keras.layers.Dense(1, activation='sigmoid')\n",
        "    ])\n",
        "    model.compile(optimizer=tf.keras.optimizers.Adam(learning_rate=learning_rate), loss='binary_crossentropy', metrics=['accuracy'])\n",
        "    model.fit(X_train, y_train, epochs=10, batch_size=64, validation_data=(X_val, y_val), verbose=0)\n",
        "    y_pred_prob = model.predict(X_val)\n",
        "    return f1_score(y_val, (y_pred_prob > 0.5).astype(int))\n",
        "\n",
        "pbounds = {'learning_rate': (0.0001, 0.01), 'dropout1': (0.2, 0.5), 'dropout2': (0.1, 0.4)}\n",
        "optimizer = BayesianOptimization(f=dnn_evaluate, pbounds=pbounds, random_state=42)\n",
        "optimizer.maximize(init_points=5, n_iter=10)\n",
        "best_params = optimizer.max['params']\n"
      ]
    },
    {
      "cell_type": "code",
      "execution_count": null,
      "metadata": {
        "colab": {
          "base_uri": "https://localhost:8080/"
        },
        "id": "Z55vG3IHeyFp",
        "outputId": "378ce30c-5d0b-44a5-a2d9-ea62f063b1eb"
      },
      "outputs": [
        {
          "name": "stdout",
          "output_type": "stream",
          "text": [
            "Epoch 1/30\n",
            "\u001b[1m2228/2228\u001b[0m \u001b[32m━━━━━━━━━━━━━━━━━━━━\u001b[0m\u001b[37m\u001b[0m \u001b[1m12s\u001b[0m 3ms/step - accuracy: 0.8417 - loss: 0.3440 - val_accuracy: 0.8590 - val_loss: 0.2966 - learning_rate: 0.0061\n",
            "Epoch 2/30\n",
            "\u001b[1m2228/2228\u001b[0m \u001b[32m━━━━━━━━━━━━━━━━━━━━\u001b[0m\u001b[37m\u001b[0m \u001b[1m6s\u001b[0m 3ms/step - accuracy: 0.8573 - loss: 0.3029 - val_accuracy: 0.8607 - val_loss: 0.2864 - learning_rate: 0.0061\n",
            "Epoch 3/30\n",
            "\u001b[1m2228/2228\u001b[0m \u001b[32m━━━━━━━━━━━━━━━━━━━━\u001b[0m\u001b[37m\u001b[0m \u001b[1m10s\u001b[0m 3ms/step - accuracy: 0.8596 - loss: 0.2976 - val_accuracy: 0.8626 - val_loss: 0.2822 - learning_rate: 0.0061\n",
            "Epoch 4/30\n",
            "\u001b[1m2228/2228\u001b[0m \u001b[32m━━━━━━━━━━━━━━━━━━━━\u001b[0m\u001b[37m\u001b[0m \u001b[1m10s\u001b[0m 3ms/step - accuracy: 0.8619 - loss: 0.2924 - val_accuracy: 0.8694 - val_loss: 0.2765 - learning_rate: 0.0061\n",
            "Epoch 5/30\n",
            "\u001b[1m2228/2228\u001b[0m \u001b[32m━━━━━━━━━━━━━━━━━━━━\u001b[0m\u001b[37m\u001b[0m \u001b[1m10s\u001b[0m 3ms/step - accuracy: 0.8630 - loss: 0.2880 - val_accuracy: 0.8706 - val_loss: 0.2728 - learning_rate: 0.0061\n",
            "Epoch 6/30\n",
            "\u001b[1m2228/2228\u001b[0m \u001b[32m━━━━━━━━━━━━━━━━━━━━\u001b[0m\u001b[37m\u001b[0m \u001b[1m10s\u001b[0m 3ms/step - accuracy: 0.8634 - loss: 0.2870 - val_accuracy: 0.8662 - val_loss: 0.2718 - learning_rate: 0.0061\n",
            "Epoch 7/30\n",
            "\u001b[1m2228/2228\u001b[0m \u001b[32m━━━━━━━━━━━━━━━━━━━━\u001b[0m\u001b[37m\u001b[0m \u001b[1m7s\u001b[0m 3ms/step - accuracy: 0.8651 - loss: 0.2848 - val_accuracy: 0.8743 - val_loss: 0.2640 - learning_rate: 0.0061\n",
            "Epoch 8/30\n",
            "\u001b[1m2228/2228\u001b[0m \u001b[32m━━━━━━━━━━━━━━━━━━━━\u001b[0m\u001b[37m\u001b[0m \u001b[1m10s\u001b[0m 3ms/step - accuracy: 0.8653 - loss: 0.2819 - val_accuracy: 0.8725 - val_loss: 0.2639 - learning_rate: 0.0061\n",
            "Epoch 9/30\n",
            "\u001b[1m2228/2228\u001b[0m \u001b[32m━━━━━━━━━━━━━━━━━━━━\u001b[0m\u001b[37m\u001b[0m \u001b[1m6s\u001b[0m 3ms/step - accuracy: 0.8650 - loss: 0.2812 - val_accuracy: 0.8753 - val_loss: 0.2666 - learning_rate: 0.0061\n",
            "Epoch 10/30\n",
            "\u001b[1m2228/2228\u001b[0m \u001b[32m━━━━━━━━━━━━━━━━━━━━\u001b[0m\u001b[37m\u001b[0m \u001b[1m10s\u001b[0m 3ms/step - accuracy: 0.8682 - loss: 0.2758 - val_accuracy: 0.8756 - val_loss: 0.2646 - learning_rate: 0.0061\n",
            "Epoch 11/30\n",
            "\u001b[1m2228/2228\u001b[0m \u001b[32m━━━━━━━━━━━━━━━━━━━━\u001b[0m\u001b[37m\u001b[0m \u001b[1m6s\u001b[0m 3ms/step - accuracy: 0.8666 - loss: 0.2756 - val_accuracy: 0.8742 - val_loss: 0.2577 - learning_rate: 0.0061\n",
            "Epoch 12/30\n",
            "\u001b[1m2228/2228\u001b[0m \u001b[32m━━━━━━━━━━━━━━━━━━━━\u001b[0m\u001b[37m\u001b[0m \u001b[1m10s\u001b[0m 3ms/step - accuracy: 0.8694 - loss: 0.2746 - val_accuracy: 0.8737 - val_loss: 0.2560 - learning_rate: 0.0061\n",
            "Epoch 13/30\n",
            "\u001b[1m2228/2228\u001b[0m \u001b[32m━━━━━━━━━━━━━━━━━━━━\u001b[0m\u001b[37m\u001b[0m \u001b[1m10s\u001b[0m 3ms/step - accuracy: 0.8696 - loss: 0.2748 - val_accuracy: 0.8749 - val_loss: 0.2598 - learning_rate: 0.0061\n",
            "Epoch 14/30\n",
            "\u001b[1m2228/2228\u001b[0m \u001b[32m━━━━━━━━━━━━━━━━━━━━\u001b[0m\u001b[37m\u001b[0m \u001b[1m10s\u001b[0m 3ms/step - accuracy: 0.8683 - loss: 0.2731 - val_accuracy: 0.8750 - val_loss: 0.2530 - learning_rate: 0.0061\n",
            "Epoch 15/30\n",
            "\u001b[1m2228/2228\u001b[0m \u001b[32m━━━━━━━━━━━━━━━━━━━━\u001b[0m\u001b[37m\u001b[0m \u001b[1m7s\u001b[0m 3ms/step - accuracy: 0.8714 - loss: 0.2711 - val_accuracy: 0.8787 - val_loss: 0.2506 - learning_rate: 0.0061\n",
            "Epoch 16/30\n",
            "\u001b[1m2228/2228\u001b[0m \u001b[32m━━━━━━━━━━━━━━━━━━━━\u001b[0m\u001b[37m\u001b[0m \u001b[1m10s\u001b[0m 3ms/step - accuracy: 0.8710 - loss: 0.2709 - val_accuracy: 0.8809 - val_loss: 0.2589 - learning_rate: 0.0061\n",
            "Epoch 17/30\n",
            "\u001b[1m2228/2228\u001b[0m \u001b[32m━━━━━━━━━━━━━━━━━━━━\u001b[0m\u001b[37m\u001b[0m \u001b[1m6s\u001b[0m 3ms/step - accuracy: 0.8690 - loss: 0.2695 - val_accuracy: 0.8826 - val_loss: 0.2461 - learning_rate: 0.0061\n",
            "Epoch 18/30\n",
            "\u001b[1m2228/2228\u001b[0m \u001b[32m━━━━━━━━━━━━━━━━━━━━\u001b[0m\u001b[37m\u001b[0m \u001b[1m7s\u001b[0m 3ms/step - accuracy: 0.8684 - loss: 0.2715 - val_accuracy: 0.8799 - val_loss: 0.2489 - learning_rate: 0.0061\n",
            "Epoch 19/30\n",
            "\u001b[1m2228/2228\u001b[0m \u001b[32m━━━━━━━━━━━━━━━━━━━━\u001b[0m\u001b[37m\u001b[0m \u001b[1m10s\u001b[0m 3ms/step - accuracy: 0.8711 - loss: 0.2677 - val_accuracy: 0.8821 - val_loss: 0.2446 - learning_rate: 0.0061\n",
            "Epoch 20/30\n",
            "\u001b[1m2228/2228\u001b[0m \u001b[32m━━━━━━━━━━━━━━━━━━━━\u001b[0m\u001b[37m\u001b[0m \u001b[1m6s\u001b[0m 3ms/step - accuracy: 0.8721 - loss: 0.2666 - val_accuracy: 0.8824 - val_loss: 0.2452 - learning_rate: 0.0061\n",
            "Epoch 21/30\n",
            "\u001b[1m2228/2228\u001b[0m \u001b[32m━━━━━━━━━━━━━━━━━━━━\u001b[0m\u001b[37m\u001b[0m \u001b[1m10s\u001b[0m 3ms/step - accuracy: 0.8733 - loss: 0.2662 - val_accuracy: 0.8828 - val_loss: 0.2437 - learning_rate: 0.0061\n",
            "Epoch 22/30\n",
            "\u001b[1m2228/2228\u001b[0m \u001b[32m━━━━━━━━━━━━━━━━━━━━\u001b[0m\u001b[37m\u001b[0m \u001b[1m10s\u001b[0m 3ms/step - accuracy: 0.8727 - loss: 0.2659 - val_accuracy: 0.8837 - val_loss: 0.2430 - learning_rate: 0.0061\n",
            "Epoch 23/30\n",
            "\u001b[1m2228/2228\u001b[0m \u001b[32m━━━━━━━━━━━━━━━━━━━━\u001b[0m\u001b[37m\u001b[0m \u001b[1m11s\u001b[0m 3ms/step - accuracy: 0.8735 - loss: 0.2642 - val_accuracy: 0.8780 - val_loss: 0.2458 - learning_rate: 0.0061\n",
            "Epoch 24/30\n",
            "\u001b[1m2228/2228\u001b[0m \u001b[32m━━━━━━━━━━━━━━━━━━━━\u001b[0m\u001b[37m\u001b[0m \u001b[1m9s\u001b[0m 3ms/step - accuracy: 0.8711 - loss: 0.2681 - val_accuracy: 0.8866 - val_loss: 0.2418 - learning_rate: 0.0061\n",
            "Epoch 25/30\n",
            "\u001b[1m2228/2228\u001b[0m \u001b[32m━━━━━━━━━━━━━━━━━━━━\u001b[0m\u001b[37m\u001b[0m \u001b[1m6s\u001b[0m 3ms/step - accuracy: 0.8729 - loss: 0.2671 - val_accuracy: 0.8879 - val_loss: 0.2437 - learning_rate: 0.0061\n",
            "Epoch 26/30\n",
            "\u001b[1m2228/2228\u001b[0m \u001b[32m━━━━━━━━━━━━━━━━━━━━\u001b[0m\u001b[37m\u001b[0m \u001b[1m10s\u001b[0m 3ms/step - accuracy: 0.8725 - loss: 0.2639 - val_accuracy: 0.8893 - val_loss: 0.2444 - learning_rate: 0.0061\n",
            "Epoch 27/30\n",
            "\u001b[1m2228/2228\u001b[0m \u001b[32m━━━━━━━━━━━━━━━━━━━━\u001b[0m\u001b[37m\u001b[0m \u001b[1m11s\u001b[0m 3ms/step - accuracy: 0.8755 - loss: 0.2621 - val_accuracy: 0.8869 - val_loss: 0.2371 - learning_rate: 0.0061\n",
            "Epoch 28/30\n",
            "\u001b[1m2228/2228\u001b[0m \u001b[32m━━━━━━━━━━━━━━━━━━━━\u001b[0m\u001b[37m\u001b[0m \u001b[1m6s\u001b[0m 3ms/step - accuracy: 0.8754 - loss: 0.2610 - val_accuracy: 0.8884 - val_loss: 0.2400 - learning_rate: 0.0061\n",
            "Epoch 29/30\n",
            "\u001b[1m2228/2228\u001b[0m \u001b[32m━━━━━━━━━━━━━━━━━━━━\u001b[0m\u001b[37m\u001b[0m \u001b[1m7s\u001b[0m 3ms/step - accuracy: 0.8745 - loss: 0.2638 - val_accuracy: 0.8907 - val_loss: 0.2373 - learning_rate: 0.0061\n",
            "Epoch 30/30\n",
            "\u001b[1m2228/2228\u001b[0m \u001b[32m━━━━━━━━━━━━━━━━━━━━\u001b[0m\u001b[37m\u001b[0m \u001b[1m6s\u001b[0m 3ms/step - accuracy: 0.8742 - loss: 0.2626 - val_accuracy: 0.8885 - val_loss: 0.2361 - learning_rate: 0.0061\n"
          ]
        },
        {
          "data": {
            "text/plain": [
              "<keras.src.callbacks.history.History at 0x7ae8943e6310>"
            ]
          },
          "execution_count": 8,
          "metadata": {},
          "output_type": "execute_result"
        }
      ],
      "source": [
        "# Create optimized DNN model\n",
        "def create_dnn():\n",
        "    model = tf.keras.Sequential([\n",
        "        tf.keras.layers.Dense(64, activation='relu'),\n",
        "        tf.keras.layers.BatchNormalization(),\n",
        "        tf.keras.layers.Dropout(best_params['dropout1']),\n",
        "        tf.keras.layers.Dense(32, activation='relu'),\n",
        "        tf.keras.layers.BatchNormalization(),\n",
        "        tf.keras.layers.Dropout(best_params['dropout2']),\n",
        "        tf.keras.layers.Dense(1, activation='sigmoid')\n",
        "    ])\n",
        "    model.compile(optimizer=tf.keras.optimizers.Adam(learning_rate=best_params['learning_rate']), loss='binary_crossentropy', metrics=['accuracy'])\n",
        "    return model\n",
        "\n",
        "dnn_model = create_dnn()\n",
        "dnn_model.fit(X_train, y_train, epochs=30, batch_size=64, validation_data=(X_val, y_val), callbacks=[tf.keras.callbacks.ReduceLROnPlateau(monitor='val_loss', factor=0.5, patience=3)], verbose=1)\n"
      ]
    },
    {
      "cell_type": "code",
      "execution_count": null,
      "metadata": {
        "colab": {
          "base_uri": "https://localhost:8080/",
          "height": 1000
        },
        "id": "Yv_pQwGle01j",
        "outputId": "fe0faa14-1915-4b8d-c146-0cc2beb39787"
      },
      "outputs": [
        {
          "name": "stdout",
          "output_type": "stream",
          "text": [
            "\u001b[1m1238/1238\u001b[0m \u001b[32m━━━━━━━━━━━━━━━━━━━━\u001b[0m\u001b[37m\u001b[0m \u001b[1m2s\u001b[0m 2ms/step\n",
            "DNN Model Performance:\n",
            "Accuracy: 0.8871\n",
            "F1 Score: 0.8789\n",
            "Matthews Correlation Coefficient (MCC): 0.7813\n",
            "ROC-AUC Score: 0.9617\n",
            "Precision-Recall AUC: 0.9681\n",
            "\n",
            "Classification Report:\n",
            "              precision    recall  f1-score   support\n",
            "\n",
            "           0       0.84      0.95      0.89     19800\n",
            "           1       0.95      0.82      0.88     19800\n",
            "\n",
            "    accuracy                           0.89     39600\n",
            "   macro avg       0.89      0.89      0.89     39600\n",
            "weighted avg       0.89      0.89      0.89     39600\n",
            "\n"
          ]
        },
        {
          "data": {
            "image/png": "[encoded data removed]",
            "text/plain": [
              "<Figure size 800x600 with 1 Axes>"
            ]
          },
          "metadata": {},
          "output_type": "display_data"
        },
        {
          "data": {
            "image/png": "[encoded data removed]",
            "text/plain": [
              "<Figure size 800x600 with 1 Axes>"
            ]
          },
          "metadata": {},
          "output_type": "display_data"
        }
      ],
      "source": [
        "from sklearn.metrics import classification_report\n",
        "import seaborn as sns\n",
        "\n",
        "# Evaluate DNN model\n",
        "y_pred_prob_dnn = dnn_model.predict(X_test)\n",
        "y_pred_dnn = (y_pred_prob_dnn > 0.5).astype(int)\n",
        "\n",
        "# Compute DNN performance metrics\n",
        "dnn_accuracy = accuracy_score(y_test, y_pred_dnn)\n",
        "dnn_f1 = f1_score(y_test, y_pred_dnn)\n",
        "dnn_mcc = matthews_corrcoef(y_test, y_pred_dnn)\n",
        "dnn_roc_auc = roc_auc_score(y_test, y_pred_prob_dnn)\n",
        "precision, recall, _ = precision_recall_curve(y_test, y_pred_prob_dnn)\n",
        "dnn_pr_auc = auc(recall, precision)\n",
        "\n",
        "print(f\"DNN Model Performance:\")\n",
        "print(f\"Accuracy: {dnn_accuracy:.4f}\")\n",
        "print(f\"F1 Score: {dnn_f1:.4f}\")\n",
        "print(f\"Matthews Correlation Coefficient (MCC): {dnn_mcc:.4f}\")\n",
        "print(f\"ROC-AUC Score: {dnn_roc_auc:.4f}\")\n",
        "print(f\"Precision-Recall AUC: {dnn_pr_auc:.4f}\")\n",
        "print(\"\\nClassification Report:\")\n",
        "print(classification_report(y_test, y_pred_dnn))\n",
        "\n",
        "# Plot ROC Curve\n",
        "fpr, tpr, _ = roc_curve(y_test, y_pred_prob_dnn)\n",
        "plt.figure(figsize=(8, 6))\n",
        "plt.plot(fpr, tpr, label=f\"DNN Model (AUC = {dnn_roc_auc:.4f})\", color='blue')\n",
        "plt.plot([0, 1], [0, 1], linestyle='--', color='gray')\n",
        "plt.xlabel(\"False Positive Rate\")\n",
        "plt.ylabel(\"True Positive Rate\")\n",
        "plt.title(\"ROC Curve\")\n",
        "plt.legend()\n",
        "plt.grid()\n",
        "plt.show()\n",
        "\n",
        "# Plot Precision-Recall Curve\n",
        "plt.figure(figsize=(8, 6))\n",
        "plt.plot(recall, precision, label=f\"DNN Model (PR AUC = {dnn_pr_auc:.4f})\", color='green')\n",
        "plt.xlabel(\"Recall\")\n",
        "plt.ylabel(\"Precision\")\n",
        "plt.title(\"Precision-Recall Curve\")\n",
        "plt.legend()\n",
        "plt.grid()\n",
        "plt.show()\n",
        "\n",
        "# Plot Confusion Matrix\n",
        "conf_matrix = pd.crosstab(y_test, y_pred_dnn, rownames=['Actual'], colnames=['Predicted'])\n",
        "plt.figure(figsize=(6, 5))\n",
        "sns.heatmap(conf_matrix, annot=True, fmt='d', cmap='Blues')\n",
        "plt.title(\"Confusion Matrix\")\n",
        "plt.show()"
      ]
    },
    {
      "cell_type": "code",
      "execution_count": null,
      "metadata": {
        "id": "Xfj9-JYXgtLY"
      },
      "outputs": [],
      "source": [
        "import gym\n",
        "import numpy as np\n",
        "import pandas as pd\n",
        "import torch\n",
        "import torch.nn as nn\n",
        "import torch.optim as optim\n",
        "import torch.nn.functional as F\n",
        "import torch.utils.data as data_utils\n",
        "import matplotlib.pyplot as plt\n",
        "from sklearn.preprocessing import StandardScaler\n",
        "from sklearn.model_selection import train_test_split\n",
        "from collections import deque\n",
        "import random\n"
      ]
    },
    {
      "cell_type": "code",
      "execution_count": null,
      "metadata": {
        "colab": {
          "base_uri": "https://localhost:8080/"
        },
        "id": "ajWvhDfwg5W5",
        "outputId": "6ef4c321-d72c-4138-c5f1-fa70e0388773"
      },
      "outputs": [
        {
          "name": "stderr",
          "output_type": "stream",
          "text": [
            "<ipython-input-5-244aaa31a7e4>:10: FutureWarning: Setting an item of incompatible dtype is deprecated and will raise in a future error of pandas. Value '[-1.73203349 -1.73199885 -1.73196421 ...  1.73196421  1.73199885\n",
            "  1.73203349]' has dtype incompatible with int64, please explicitly cast to a compatible dtype first.\n",
            "  self.data.iloc[:, :-1] = self.scaler.fit_transform(self.data.iloc[:, :-1])\n",
            "<ipython-input-5-244aaa31a7e4>:10: FutureWarning: Setting an item of incompatible dtype is deprecated and will raise in a future error of pandas. Value '[ 0.64535719 -1.3600847  -0.37295009 ...  0.65228445  0.49295746\n",
            "  0.60033   ]' has dtype incompatible with int64, please explicitly cast to a compatible dtype first.\n",
            "  self.data.iloc[:, :-1] = self.scaler.fit_transform(self.data.iloc[:, :-1])\n"
          ]
        }
      ],
      "source": [
        "class FraudDetectionEnv(gym.Env):\n",
        "    def __init__(self, data_file):\n",
        "        super(FraudDetectionEnv, self).__init__()\n",
        "        self.data = pd.read_csv(data_file)\n",
        "\n",
        "        # Ensure proper numeric conversion\n",
        "        self.data = self.data.select_dtypes(include=[np.number])\n",
        "\n",
        "        self.scaler = StandardScaler()\n",
        "        self.data.iloc[:, :-1] = self.scaler.fit_transform(self.data.iloc[:, :-1])\n",
        "\n",
        "        self.state_idx = 0\n",
        "        self.action_space = gym.spaces.Discrete(2)\n",
        "        self.observation_space = gym.spaces.Box(low=-np.inf, high=np.inf, shape=(self.data.shape[1] - 1,), dtype=np.float32)\n",
        "\n",
        "    def reset(self):\n",
        "        self.state_idx = 0\n",
        "        return self.data.iloc[self.state_idx, :-1].values\n",
        "\n",
        "    def step(self, action):\n",
        "        reward = 1 if action == self.data.iloc[self.state_idx, -1] else -1\n",
        "        self.state_idx += 1\n",
        "        done = self.state_idx >= len(self.data)\n",
        "        next_state = self.data.iloc[self.state_idx, :-1].values if not done else np.zeros(self.observation_space.shape)\n",
        "        return next_state, reward, done, {}\n",
        "\n",
        "# Initialize the environment\n",
        "env = FraudDetectionEnv('credit_card_fraud_dataset.csv')\n"
      ]
    },
    {
      "cell_type": "code",
      "execution_count": null,
      "metadata": {
        "id": "o2ey-IAKg8_I"
      },
      "outputs": [],
      "source": [
        "device = torch.device(\"cuda\" if torch.cuda.is_available() else \"cpu\")\n",
        "\n",
        "class DQN(nn.Module):\n",
        "    def __init__(self, input_dim):\n",
        "        super(DQN, self).__init__()\n",
        "        self.fc1 = nn.Linear(input_dim, 16)\n",
        "        self.fc2 = nn.Linear(16, 18)\n",
        "        self.fc3 = nn.Linear(18, 20)\n",
        "        self.fc4 = nn.Linear(20, 24)\n",
        "        self.fc5 = nn.Linear(24, 2)\n",
        "\n",
        "    def forward(self, x):\n",
        "        x = torch.relu(self.fc1(x))\n",
        "        x = torch.relu(self.fc2(x))\n",
        "        x = torch.dropout(x, p=0.25, train=True)\n",
        "        x = torch.relu(self.fc3(x))\n",
        "        x = torch.relu(self.fc4(x))\n",
        "        x = torch.sigmoid(self.fc5(x))\n",
        "        return x"
      ]
    },
    {
      "cell_type": "code",
      "execution_count": null,
      "metadata": {
        "id": "3wLZ_Fn4hAuF"
      },
      "outputs": [],
      "source": [
        "class ReplayBuffer:\n",
        "    def __init__(self, action_size, buffer_size, batch_size, seed):\n",
        "        self.memory = deque(maxlen=buffer_size)\n",
        "        self.batch_size = batch_size\n",
        "        self.seed = random.seed(seed)\n",
        "\n",
        "    def add(self, state, action, reward, next_state, done):\n",
        "        self.memory.append((state, action, reward, next_state, done))\n",
        "\n",
        "    def sample(self):\n",
        "        batch = random.sample(self.memory, self.batch_size)\n",
        "        states, actions, rewards, next_states, dones = zip(*batch)\n",
        "        return torch.tensor(states, dtype=torch.float32).to(device), \\\n",
        "               torch.tensor(actions, dtype=torch.long).unsqueeze(1).to(device), \\\n",
        "               torch.tensor(rewards, dtype=torch.float32).unsqueeze(1).to(device), \\\n",
        "               torch.tensor(next_states, dtype=torch.float32).to(device), \\\n",
        "               torch.tensor(dones, dtype=torch.float32).unsqueeze(1).to(device)\n",
        "\n",
        "    def __len__(self):\n",
        "        return len(self.memory)\n"
      ]
    },
    {
      "cell_type": "code",
      "execution_count": null,
      "metadata": {
        "id": "TZGrFBidhGVl"
      },
      "outputs": [],
      "source": [
        "class Agent:\n",
        "    def __init__(self, input_dim, action_size, seed):\n",
        "        self.action_size = action_size\n",
        "        self.qnet_local = DQN(input_dim).to(device)\n",
        "        self.qnet_target = DQN(input_dim).to(device)\n",
        "        self.optimizer = optim.Adam(self.qnet_local.parameters(), lr=0.001)\n",
        "        self.memory = ReplayBuffer(action_size, buffer_size=100000, batch_size=64, seed=seed)\n",
        "        self.train_loss = []\n",
        "\n",
        "    def step(self, state, action, reward, next_state, done):\n",
        "        self.memory.add(state, action, reward, next_state, done)\n",
        "        if len(self.memory) > 64:\n",
        "            experiences = self.memory.sample()\n",
        "            self.learn(experiences)\n",
        "\n",
        "    def epsilon_greedy_action(self, state, epsilon=0.1):\n",
        "        with torch.no_grad():\n",
        "            action_values = self.qnet_local(state)\n",
        "        if random.random() > epsilon:\n",
        "            return int(action_values.argmax(dim=1).cpu().numpy())  # Ensure it returns an int\n",
        "        else:\n",
        "            return random.randint(0, self.action_size - 1)  # Choose a random action\n",
        "\n",
        "    def learn(self, experiences, gamma=0.99):\n",
        "        states, actions, rewards, next_states, dones = experiences\n",
        "        criterion = nn.MSELoss()\n",
        "\n",
        "        q_targets_next = self.qnet_target(next_states).detach().max(1)[0].unsqueeze(1)\n",
        "        q_targets = rewards + (gamma * q_targets_next * (1 - dones))\n",
        "\n",
        "        q_expected = self.qnet_local(states).gather(1, actions)\n",
        "        loss = criterion(q_expected, q_targets)\n",
        "\n",
        "        self.optimizer.zero_grad()\n",
        "        loss.backward()\n",
        "        self.optimizer.step()\n",
        "\n",
        "        self.train_loss.append(loss.item())\n",
        "\n",
        "# Ensure input shape matches DQN expectations\n",
        "state_size = env.observation_space.shape[0]\n",
        "agent = Agent(input_dim=state_size, action_size=2, seed=42)"
      ]
    },
    {
      "cell_type": "code",
      "execution_count": null,
      "metadata": {
        "colab": {
          "base_uri": "https://localhost:8080/"
        },
        "id": "OMz1AmRohJ1q",
        "outputId": "ea37a10b-0ff7-4065-c1e9-9f15edef8f7c"
      },
      "outputs": [
        {
          "output_type": "stream",
          "name": "stderr",
          "text": [
            "<ipython-input-13-2b76e3a25a01>:20: DeprecationWarning: Conversion of an array with ndim > 0 to a scalar is deprecated, and will error in future. Ensure you extract a single element from your array before performing this operation. (Deprecated NumPy 1.25.)\n",
            "  return int(action_values.argmax(dim=1).cpu().numpy())  # Ensure it returns an int\n"
          ]
        }
      ],
      "source": [
        "num_episodes = 50\n",
        "for i in range(num_episodes):\n",
        "    state = env.reset()\n",
        "    for _ in range(1000):\n",
        "        state_tensor = torch.tensor(state, dtype=torch.float32, device=device)\n",
        "        if len(state_tensor.shape) == 1:\n",
        "            state_tensor = state_tensor.unsqueeze(0)  # Ensure batch shape\n",
        "\n",
        "        action = agent.epsilon_greedy_action(state_tensor)\n",
        "        next_state, reward, done, _ = env.step(action)\n",
        "\n",
        "        agent.step(state, action, reward, next_state, done)\n",
        "        state = next_state\n",
        "\n",
        "        if done:\n",
        "            break\n"
      ]
    },
    {
      "cell_type": "code",
      "execution_count": null,
      "metadata": {
        "id": "BH4DxOIrhP0j",
        "colab": {
          "base_uri": "https://localhost:8080/",
          "height": 449
        },
        "outputId": "3b96ccbd-b126-4c1c-abd1-9071d31d1b79"
      },
      "outputs": [
        {
          "output_type": "display_data",
          "data": {
            "text/plain": [
              "<Figure size 640x480 with 1 Axes>"
            ],
            "image/png": "[encoded data removed]"
          },
          "metadata": {}
        }
      ],
      "source": [
        "plt.plot(range(len(agent.train_loss)), agent.train_loss, color='orange', label='Training Loss')\n",
        "plt.xlabel('# Epochs')\n",
        "plt.ylabel('Loss')\n",
        "plt.legend()\n",
        "plt.show()\n"
      ]
    },
    {
      "cell_type": "code",
      "execution_count": null,
      "metadata": {
        "id": "IEEZzPeDhUeR",
        "colab": {
          "base_uri": "https://localhost:8080/"
        },
        "outputId": "8abe5415-4dca-492a-9962-30703d18f593"
      },
      "outputs": [
        {
          "output_type": "stream",
          "name": "stderr",
          "text": [
            "<ipython-input-13-2b76e3a25a01>:20: DeprecationWarning: Conversion of an array with ndim > 0 to a scalar is deprecated, and will error in future. Ensure you extract a single element from your array before performing this operation. (Deprecated NumPy 1.25.)\n",
            "  return int(action_values.argmax(dim=1).cpu().numpy())  # Ensure it returns an int\n"
          ]
        },
        {
          "output_type": "stream",
          "name": "stdout",
          "text": [
            "Accuracy: 94.01%\n"
          ]
        }
      ],
      "source": [
        "from sklearn.metrics import accuracy_score, f1_score, matthews_corrcoef\n",
        "\n",
        "y_true = []\n",
        "y_pred = []\n",
        "\n",
        "with torch.no_grad():\n",
        "    for i in range(len(env.data)):\n",
        "        state = env.data.iloc[i, :-1].values\n",
        "        label = env.data.iloc[i, -1]\n",
        "\n",
        "        state_tensor = torch.tensor(state, dtype=torch.float32).unsqueeze(0).to(device)\n",
        "        action = agent.epsilon_greedy_action(state_tensor)  # No need for .item()\n",
        "\n",
        "        y_true.append(label)\n",
        "        y_pred.append(action)  # Store action directly\n",
        "\n",
        "accuracy = accuracy_score(y_true, y_pred) * 100\n",
        "f1 = f1_score(y_true, y_pred) * 100\n",
        "mcc = matthews_corrcoef(y_true, y_pred) * 100\n",
        "\n",
        "print(f'Accuracy: {accuracy:.2f}%')\n",
        "\n"
      ]
    },
    {
      "cell_type": "code",
      "execution_count": null,
      "metadata": {
        "colab": {
          "base_uri": "https://localhost:8080/"
        },
        "id": "1DCciRBKPMKH",
        "outputId": "91d9339b-deda-4b5e-b7e5-8d4ca2dd37d2"
      },
      "outputs": [
        {
          "output_type": "stream",
          "name": "stdout",
          "text": [
            "Fraudulent Transaction\n"
          ]
        },
        {
          "output_type": "stream",
          "name": "stderr",
          "text": [
            "/usr/local/lib/python3.11/dist-packages/tensorflow/python/framework/ops.py:315: DeprecationWarning: Conversion of an array with ndim > 0 to a scalar is deprecated, and will error in future. Ensure you extract a single element from your array before performing this operation. (Deprecated NumPy 1.25.)\n",
            "  return float(self._numpy())\n"
          ]
        }
      ],
      "source": [
        "def predict_transaction(input_data):\n",
        "    # Convert input data to DataFrame for preprocessing\n",
        "    input_df = pd.DataFrame([input_data])\n",
        "\n",
        "    # Convert date and extract features\n",
        "    input_df[\"TransactionDate\"] = pd.to_datetime(input_df[\"TransactionDate\"])\n",
        "    input_df[\"TransactionHour\"] = input_df[\"TransactionDate\"].dt.hour\n",
        "    input_df[\"TransactionDay\"] = input_df[\"TransactionDate\"].dt.dayofweek\n",
        "    input_df.drop(columns=[\"TransactionDate\", \"TransactionID\"], inplace=True)\n",
        "\n",
        "    # Apply one-hot encoding to categorical features\n",
        "    input_df = pd.get_dummies(input_df, columns=[\"TransactionType\", \"Location\"], drop_first=True)\n",
        "\n",
        "    # Align with training data columns\n",
        "    missing_cols = set(X.columns) - set(input_df.columns)\n",
        "    for col in missing_cols:\n",
        "        input_df[col] = 0  # Add missing columns with default value\n",
        "\n",
        "    input_df = input_df[X.columns]  # Reorder columns\n",
        "\n",
        "    # Standardize the input data\n",
        "    input_scaled = scaler.transform(input_df)\n",
        "\n",
        "    # Get DNN prediction and ensure it's a single scalar\n",
        "    dnn_pred = float(dnn_model.predict(input_scaled, verbose=0)[0, 0])\n",
        "\n",
        "    # Prepare state for DQN\n",
        "    state = np.append(input_scaled.flatten(), dnn_pred)\n",
        "\n",
        "    # Get DQN action (0 = Not Fraud, 1 = Fraud)\n",
        "    action = agent.act(state)\n",
        "\n",
        "    # Return result\n",
        "    return \"Fraudulent Transaction\" if action == 1 else \"Legitimate Transaction\"\n",
        "\n",
        "# Example usage\n",
        "input_transaction = {\n",
        "    \"TransactionID\": 000,\n",
        "    \"TransactionDate\": \"2025-03-26 14:30:00\",\n",
        "    \"TransactionType\": \"Online\",\n",
        "    \"Amount\": 000,\n",
        "    \"Location\": \"New York\",\n",
        "    \"CustomerID\": 0000\n",
        "}\n",
        "\n",
        "print(predict_transaction(input_transaction))\n"
      ]
    }
  ],
  "metadata": {
    "accelerator": "GPU",
    "colab": {
      "gpuType": "T4",
      "provenance": [],
      "authorship_tag": "ABX9TyNiQ8NvllpOvrZDe9Mi7sqc",
      "include_colab_link": true
    },
    "kernelspec": {
      "display_name": "Python 3",
      "name": "python3"
    },
    "language_info": {
      "name": "python"
    }
  },
  "nbformat": 4,
  "nbformat_minor": 0
}